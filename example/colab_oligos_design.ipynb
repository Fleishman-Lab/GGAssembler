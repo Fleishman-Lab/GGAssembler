{
 "cells": [
  {
   "cell_type": "markdown",
   "metadata": {},
   "source": [
    "[![Open In Colab](https://colab.research.google.com/assets/colab-badge.svg)](https://colab.research.google.com/github/Fleishman-Lab/GGAssembler/blob/master/example/colab_oligos_design.ipynb)"
   ]
  },
  {
   "cell_type": "markdown",
   "metadata": {
    "toc-hr-collapsed": false
   },
   "source": [
    "<img src=\"golden-gator.png\" width=\"100\">\n",
    "\n",
    "## Golden Gator\n",
    "A self contained dna gene segmentation to generate combinatoricaly assembled variant libraries.\n"
   ]
  },
  {
   "cell_type": "markdown",
   "metadata": {
    "toc-hr-collapsed": false
   },
   "source": [
    "## 1. setup "
   ]
  },
  {
   "cell_type": "markdown",
   "metadata": {},
   "source": [
    "### 1.0 Install"
   ]
  },
  {
   "cell_type": "code",
   "execution_count": null,
   "metadata": {},
   "outputs": [],
   "source": [
    "#@title Install prerequisites and import python libraries\n",
    "try:\n",
    "    import google.colab\n",
    "    !apt install rustc cargo > /dev/null\n",
    "    !pip install -q --no-warn-conflicts git+https://github.com/Fleishman-Lab/GGAssembler\n",
    "except ImportError:\n",
    "    pass\n",
    "\n",
    "import ast\n",
    "import os\n",
    "\n",
    "import networkx as nx\n",
    "import pandas as pd\n",
    "from typing import List\n",
    "from Bio import SeqIO\n",
    "\n",
    "from dawdlib.embl_utils.embl_maker import create_dc_features, create_path_features\n",
    "from dawdlib.degenerate_dna.deg_table import TableColNames, generate_deg_csv\n",
    "from dawdlib.degenerate_dna.utils import parse_degenerate_codon_csv\n",
    "from dawdlib.dijkstra import colorful\n",
    "from dawdlib.dijkstra.len_limit import all_shortest_paths\n",
    "from dawdlib.gg_dc_combine.gg_dc_combine import dc_df_codon_list, gate_cdn_oligos\n",
    "from dawdlib.golden_gate.find_gg import deg_table_to_dict\n",
    "from dawdlib.golden_gate.gate_data import GGData\n",
    "from dawdlib.golden_gate.graph_maker import (\n",
    "    GraphMaker,\n",
    "    build_custom_graph,\n",
    "    create_default_valid_node_function,\n",
    "    create_default_weight_func,\n",
    "    make_default_graph,\n",
    ")\n",
    "from dawdlib.golden_gate.reaction_sim import ReactionSim, ReactionGraphWt\n",
    "from dawdlib.golden_gate.utils import RequirementsFactory, expand_dna_var_poss, parse_dna, check_for_restriction_sites"
   ]
  },
  {
   "cell_type": "markdown",
   "metadata": {},
   "source": [
    "### 1.1 Imports"
   ]
  },
  {
   "cell_type": "code",
   "execution_count": null,
   "metadata": {},
   "outputs": [],
   "source": []
  },
  {
   "cell_type": "markdown",
   "metadata": {},
   "source": [
    "### 1.2 Constants and Paths"
   ]
  },
  {
   "cell_type": "code",
   "execution_count": null,
   "metadata": {},
   "outputs": [],
   "source": [
    "#@title Input protein sequence(s), then hit `Runtime` -> `Run all`\n",
    "PROJECT_NAME = '' #@param {type:\"string\"}\n",
    "\n",
    "# Set DNA oligo restrictions\n",
    "MIN_OLIGO_LENGTH: int = 4\n",
    "MAX_OLIGO_LENGTH: int = 100\n",
    "MIN_CONST_OLIGO_LENGTH: int = 15\n",
    "MIN_NUM_GATES = 12\n",
    "MAX_NUM_GATES = 26\n",
    "MIN_EFFICIENCY = 0.25\n",
    "CONST_COST = 40\n",
    "\n",
    "\n",
    "MIN_FIDELITY = 0.1 # The amount of trace mismatch allowed = 10 * (1 - MIN_FIDELITY)\n",
    "\n",
    "# Restriction enzyme settings:\n",
    "RESTRICTION_ENZYME = [\"BsaI\"]\n",
    "overhanglength = 4\n",
    "# Must include the enzyme's restriction pattern at the end\n",
    "PREFIX = \"GACATTGGTCTCA\"\n",
    "# Must include the enzyme's restriction pattern at the begining\n",
    "SUFFIX = \"TGAGACCAACGACGCCGTACTCTTTGTCAAC\"\n",
    "\n",
    "reqs = RequirementsFactory(\n",
    "    min_oligo_length = MIN_OLIGO_LENGTH,\n",
    "    max_oligo_length = MAX_OLIGO_LENGTH,\n",
    "    min_const_oligo_length = MIN_CONST_OLIGO_LENGTH,\n",
    "    min_efficiency=MIN_EFFICIENCY,\n",
    "    min_fidelity=MIN_FIDELITY,\n",
    "    oligo_prefix=PREFIX,\n",
    "    oligo_suffix=SUFFIX,\n",
    "    const_cost = CONST_COST,\n",
    "    filter_gc_overhangs = False\n",
    ")\n",
    "\n",
    "ggdata = GGData(\n",
    "    temperature=reqs.gg_temp,\n",
    "    hours=reqs.gg_hours,\n",
    "    min_efficiency=reqs.min_efficiency,\n",
    "    min_fidelity=reqs.min_fidelity\n",
    ")"
   ]
  },
  {
   "cell_type": "code",
   "execution_count": null,
   "metadata": {},
   "outputs": [],
   "source": []
  },
  {
   "cell_type": "code",
   "execution_count": null,
   "metadata": {},
   "outputs": [],
   "source": [
    "print('Load rosetta style Resfile specifying Amino acid diversity')\n",
    "resfile = google.colab.files.upload_file('input.resfile')\n",
    "print('Load WT DNA fasta file')\n",
    "wt_dna = google.colab.files.upload_file('wt_dna.fasta')\n",
    "\n",
    "W_PATH = \"/content\"\n",
    "resfile_path = os.path.join(W_PATH,\"input.resfile\")\n",
    "dna_path = os.path.join(W_PATH,\"wt_dna.fasta\")\n",
    "embl_path = os.path.join(W_PATH,\"output.embl\")\n",
    "deg_table_path = os.path.join(W_PATH,\"deg_table.csv\")\n",
    "chosen_path_path = os.path.join(W_PATH, 'chosen_path.csv')\n",
    "order_table_path = os.path.join(W_PATH, \"order_table.csv\")\n",
    "oligo_table_path = os.path.join(W_PATH, \"oligos.csv\")\n",
    "dna = parse_dna(dna_path).upper()"
   ]
  },
  {
   "cell_type": "markdown",
   "metadata": {},
   "source": [
    "### 1.2.1 Option to use 3 base pair gates instead of 4\n",
    "### *Make sure to uncomment the next cell if you require using 3 base pairs instead of 4 or a different overhang data table from the ones provided built-in.*"
   ]
  },
  {
   "cell_type": "code",
   "execution_count": null,
   "metadata": {},
   "outputs": [],
   "source": [
    "# please make sure that you have changed the overhanglength, RESTRICTION_ENZYME, PREFIX, and SUFFIX above\n",
    "# path_to_ligation_data = \"/home/labs/fleishman/arielte/dawdlib/dawdlib/golden_gate/resources/SapI.csv\"\n",
    "# set this path to be csv to ligation data\n",
    "# ggdata.set_default_df(path_to_ligation_data)\n",
    "# ggdata.init()"
   ]
  },
  {
   "cell_type": "markdown",
   "metadata": {
    "pycharm": {
     "name": "#%% md\n"
    }
   },
   "source": [
    "### 1.2.2 Optionally: use to different available ligation data and conditions\n",
    "#### The next cell lists the available ligation tables"
   ]
  },
  {
   "cell_type": "code",
   "execution_count": null,
   "metadata": {
    "pycharm": {
     "name": "#%%\n"
    }
   },
   "outputs": [],
   "source": [
    "import dawdlib.golden_gate.resources as gg_resources\n",
    "for lig_data in gg_resources.ligation_data.keys():\n",
    "    print(f'{lig_data}')"
   ]
  },
  {
   "cell_type": "markdown",
   "metadata": {
    "pycharm": {
     "name": "#%% md\n"
    }
   },
   "source": [
    "#### 1.2.2.1 to use a different table use uncomment the next cell and use the name from the dictionary printed above or provide a path to a table"
   ]
  },
  {
   "cell_type": "code",
   "execution_count": null,
   "metadata": {
    "pycharm": {
     "name": "#%%\n"
    }
   },
   "outputs": [],
   "source": [
    "ggdata.set_default_df('FileS_T4_18h_37C.csv')\n",
    "ggdata.init()"
   ]
  },
  {
   "cell_type": "markdown",
   "metadata": {
    "pycharm": {
     "name": "#%% md\n"
    }
   },
   "source": [
    "### Restriction enzyme verification"
   ]
  },
  {
   "cell_type": "code",
   "execution_count": null,
   "metadata": {
    "pycharm": {
     "name": "#%%\n"
    }
   },
   "outputs": [],
   "source": [
    "sites = check_for_restriction_sites(dna, RESTRICTION_ENZYME)\n",
    "assert sites[0], f'Restriction enzyme {sites[1]} recognition site were found at positions {sites[2]} in the dna.'"
   ]
  },
  {
   "cell_type": "markdown",
   "metadata": {},
   "source": [
    "## 2. Degenerate codons"
   ]
  },
  {
   "cell_type": "markdown",
   "metadata": {
    "toc-hr-collapsed": true
   },
   "source": [
    "### 2.1 Generate degenerate codon table"
   ]
  },
  {
   "cell_type": "code",
   "execution_count": null,
   "metadata": {},
   "outputs": [],
   "source": [
    "generate_deg_csv(resfile_path, csv_filename=deg_table_path)\n",
    "deg_table = pd.read_csv(deg_table_path, na_filter=True, keep_default_na=False,)\n",
    "encoded_diversity = deg_table.ENCODED_COUNT.apply(ast.literal_eval).apply(sum).prod()\n",
    "print(f'The encoded diversity has {encoded_diversity} variants.')"
   ]
  },
  {
   "cell_type": "markdown",
   "metadata": {},
   "source": [
    "### 2.2 View degenerate codon table"
   ]
  },
  {
   "cell_type": "code",
   "execution_count": null,
   "metadata": {},
   "outputs": [],
   "source": [
    "deg_table"
   ]
  },
  {
   "cell_type": "markdown",
   "metadata": {},
   "source": [
    "## 3. Find golden gates"
   ]
  },
  {
   "cell_type": "markdown",
   "metadata": {
    "toc-hr-collapsed": true
   },
   "source": [
    "### 3.1 Create a graph\n",
    "**Either use the default, or custom blocks.**"
   ]
  },
  {
   "cell_type": "code",
   "execution_count": null,
   "metadata": {},
   "outputs": [],
   "source": [
    "use_default = True"
   ]
  },
  {
   "cell_type": "markdown",
   "metadata": {},
   "source": [
    "#### 3.1.1 Default graph"
   ]
  },
  {
   "cell_type": "code",
   "execution_count": null,
   "metadata": {},
   "outputs": [],
   "source": [
    "if use_default:\n",
    "    gm = GraphMaker(ggdata)\n",
    "    var_poss = expand_dna_var_poss(deg_table[TableColNames.DNA_POS.value].tolist())\n",
    "    graph, src, target = make_default_graph(\n",
    "        gm, dna, var_poss, deg_table_to_dict(deg_table), reqs, overhanglength\n",
    "    )"
   ]
  },
  {
   "cell_type": "markdown",
   "metadata": {},
   "source": [
    "#### 3.1.2 Custom graph"
   ]
  },
  {
   "cell_type": "code",
   "execution_count": null,
   "metadata": {},
   "outputs": [],
   "source": [
    "if not use_default:\n",
    "    gm = GraphMaker(ggdata)\n",
    "    var_poss = expand_dna_var_poss(deg_table[TableColNames.DNA_POS.value].tolist())\n",
    "\n",
    "    is_valid_edge = gm.create_default_valid_edge_func(\n",
    "        dna_var_poss=var_poss,\n",
    "        min_oligo_length=MIN_OLIGO_LENGTH,\n",
    "        max_oligo_length=MAX_OLIGO_LENGTH - len(PREFIX) - len(SUFFIX),\n",
    "        min_const_oligo_length=MIN_CONST_OLIGO_LENGTH,\n",
    "        min_fidelity=MIN_FIDELITY,\n",
    "    )\n",
    "\n",
    "\n",
    "    def cost_func(nd1, nd2):\n",
    "        default = create_default_weight_func(\n",
    "            dna_pos_n_codons=deg_table_to_dict(deg_table),\n",
    "            oligo_addition=0,\n",
    "            const_cost=0,\n",
    "        )\n",
    "        return default(nd1, nd2) + len(SUFFIX) + len(PREFIX)\n",
    "\n",
    "\n",
    "    acceptable_fcws = ggdata.filter_self_binding_gates(filter_gc=True)\n",
    "    is_valid_node = create_default_valid_node_function(acceptable_fcws, var_poss)\n",
    "\n",
    "    graph, src, target = build_custom_graph(\n",
    "        dna, is_valid_node, is_valid_edge, cost_func\n",
    "    )"
   ]
  },
  {
   "cell_type": "markdown",
   "metadata": {},
   "source": [
    "### 3.2 Find gates (shortest paths)"
   ]
  },
  {
   "cell_type": "markdown",
   "metadata": {},
   "source": [
    "#### 3.2.1 Find shortest paths"
   ]
  },
  {
   "cell_type": "code",
   "execution_count": null,
   "metadata": {},
   "outputs": [],
   "source": [
    "from collections import defaultdict\n",
    "\n",
    "shortest_paths = all_shortest_paths(\n",
    "    graph, src, target, weight=\"weight\", len_cutoff=MAX_NUM_GATES\n",
    ")\n",
    "best_paths = defaultdict(list)\n",
    "bad_paths = defaultdict(list)\n",
    "max_shortest_paths = int(1e4)\n",
    "try:\n",
    "    for i, (pth, cost) in enumerate(shortest_paths):\n",
    "        if i > max_shortest_paths:\n",
    "            break\n",
    "        rpth = [p for p in pth if not p.src_or_target]\n",
    "        overhangs = [a.bps for a in rpth]\n",
    "        try:\n",
    "            reaction_fidelities = ggdata.reaction_fidelity(*overhangs)\n",
    "        except ValueError:\n",
    "            bad_paths[len(rpth)].append((pth, None))\n",
    "            continue\n",
    "        neb_fidelity = reaction_fidelities[0]\n",
    "        if neb_fidelity > MIN_FIDELITY:\n",
    "            best_paths[len(rpth)].append((pth, cost, neb_fidelity, i))\n",
    "            continue\n",
    "        bad_paths[len(rpth)].append((pth, neb_fidelity))\n",
    "except nx.NetworkXNoPath:\n",
    "    print(f\"No path was found between {src} and {target}\")\n"
   ]
  },
  {
   "cell_type": "markdown",
   "metadata": {},
   "source": [
    "##### 3.2.1.2 View found gates (paths)"
   ]
  },
  {
   "cell_type": "code",
   "execution_count": null,
   "metadata": {},
   "outputs": [],
   "source": [
    "for length, path_list in best_paths.items():\n",
    "    for i, v in enumerate(path_list):\n",
    "        print(f\"Path ID: {length}-{i}. Number of overhangs: {len([a for a in v[0] if not a.src_or_target])}. Cost: {v[1]}. Fidelity: {v[2]}\")"
   ]
  },
  {
   "cell_type": "markdown",
   "metadata": {},
   "source": [
    "#### 3.2.2 Find __*colorful*__ gates (shortest paths)"
   ]
  },
  {
   "cell_type": "markdown",
   "metadata": {},
   "source": [
    "##### 3.2.2.1 Set colorful retries"
   ]
  },
  {
   "cell_type": "code",
   "execution_count": null,
   "metadata": {},
   "outputs": [],
   "source": [
    "colorful_retries = int(1e2)"
   ]
  },
  {
   "cell_type": "code",
   "execution_count": null,
   "metadata": {},
   "outputs": [],
   "source": [
    "spf = colorful.ShortestPathFinder(graph, ggdata, src, target)\n",
    "for max_gates in range(MIN_NUM_GATES, MAX_NUM_GATES+1):\n",
    "    for i in range(colorful_retries):\n",
    "        pth = spf.find_shortest_path(len_cutoff=max_gates, no_colors=max_gates+1)\n",
    "        if pth:\n",
    "            rpth = [p for p in pth if not p.src_or_target]\n",
    "            overhangs = [a.bps for a in rpth]\n",
    "            reaction_fidelities = ggdata.reaction_fidelity(*overhangs)\n",
    "            neb_fidelity = reaction_fidelities[0]\n",
    "            if neb_fidelity < MIN_FIDELITY:\n",
    "                continue\n",
    "            pth_len = len(pth)\n",
    "            cost = sum(\n",
    "                (graph.edges[n1, n2][\"weight\"] for n1, n2 in zip(pth[:-1], pth[1:]))\n",
    "            )\n",
    "            best_paths[len(rpth)].append((pth, cost, neb_fidelity, i))"
   ]
  },
  {
   "cell_type": "markdown",
   "metadata": {},
   "source": [
    "##### 3.2.2.2 View found *colorful* gates (paths)"
   ]
  },
  {
   "cell_type": "code",
   "execution_count": null,
   "metadata": {},
   "outputs": [],
   "source": [
    "for length, path_list in best_paths.items():\n",
    "    for i, v in enumerate(path_list):\n",
    "        print(f\"Path ID: {length}-{i}. Number of overhangs: {len([a for a in v[0] if not a.src_or_target])}. Cost: {v[1]}. Fidelity: {v[2]}\")"
   ]
  },
  {
   "cell_type": "markdown",
   "metadata": {},
   "source": [
    "### 3.3 choose whichever solution you prefer by length and then by index.\n",
    "Example: Path ID: '15-14' translates to best_paths[15][14]."
   ]
  },
  {
   "cell_type": "code",
   "execution_count": null,
   "metadata": {},
   "outputs": [],
   "source": [
    "chosen_path_id = '15-14' #@param {type:\"string\"}\n",
    "chosen_path_length = int(chosen_path_id.strip().split('-')[0])\n",
    "chosen_path_index = int(chosen_path_id.strip().split('-')[1])"
   ]
  },
  {
   "cell_type": "code",
   "execution_count": null,
   "metadata": {},
   "outputs": [],
   "source": [
    "chosen_entry = best_paths[chosen_path_length][chosen_path_index]\n",
    "chosen_path = chosen_entry[0]"
   ]
  },
  {
   "cell_type": "markdown",
   "metadata": {},
   "source": [
    "#### 3.3.1 View chosen path"
   ]
  },
  {
   "cell_type": "code",
   "execution_count": null,
   "metadata": {},
   "outputs": [],
   "source": [
    "chosen_path"
   ]
  },
  {
   "cell_type": "markdown",
   "metadata": {},
   "source": [
    "#### 3.3.2 save chosen path to csv"
   ]
  },
  {
   "cell_type": "code",
   "execution_count": null,
   "metadata": {},
   "outputs": [],
   "source": [
    "path_df = pd.DataFrame.from_records(chosen_path, columns=chosen_path[0].__annotations__.keys())\n",
    "path_df.to_csv(chosen_path_path)"
   ]
  },
  {
   "cell_type": "markdown",
   "metadata": {},
   "source": [
    "## 4. Create embl feature view"
   ]
  },
  {
   "cell_type": "markdown",
   "metadata": {},
   "source": [
    "### 4.1 Prepare degenerate codon and gates features"
   ]
  },
  {
   "cell_type": "code",
   "execution_count": null,
   "metadata": {},
   "outputs": [],
   "source": [
    "deg_parsed_df = parse_degenerate_codon_csv(deg_table_path)\n",
    "seq_features = create_dc_features(deg_parsed_df)\n",
    "pth_features = create_path_features(chosen_path)"
   ]
  },
  {
   "cell_type": "markdown",
   "metadata": {},
   "source": [
    "### 4.2 Save embl file with all features"
   ]
  },
  {
   "cell_type": "code",
   "execution_count": null,
   "metadata": {},
   "outputs": [],
   "source": [
    "seq_rec = SeqIO.read(dna_path, format=\"fasta\")\n",
    "seq_rec.annotations.update({\"molecule_type\": \"DNA\"})\n",
    "seq_rec.features.extend(seq_features)\n",
    "seq_rec.features.extend(pth_features)\n",
    "SeqIO.write(seq_rec, embl_path, \"embl\")"
   ]
  },
  {
   "cell_type": "markdown",
   "metadata": {},
   "source": [
    "## 5. Create oligos"
   ]
  },
  {
   "cell_type": "markdown",
   "metadata": {},
   "source": [
    "### 5.1 Create oligo table"
   ]
  },
  {
   "cell_type": "code",
   "execution_count": null,
   "metadata": {},
   "outputs": [],
   "source": [
    "oligo_df = gate_cdn_oligos(chosen_path, dc_df_codon_list(deg_table), dna, reqs.oligo_prefix, reqs.oligo_suffix, PROJECT_NAME)"
   ]
  },
  {
   "cell_type": "markdown",
   "metadata": {},
   "source": [
    "### 5.2 Save oligo table"
   ]
  },
  {
   "cell_type": "code",
   "execution_count": null,
   "metadata": {},
   "outputs": [],
   "source": [
    "oligo_df.to_csv(oligo_table_path)"
   ]
  },
  {
   "cell_type": "markdown",
   "metadata": {},
   "source": [
    "## 6. Verify golden gate reaction"
   ]
  },
  {
   "cell_type": "markdown",
   "metadata": {},
   "source": [
    "### 6.1 Create golden gate simulator and load oligo table"
   ]
  },
  {
   "cell_type": "code",
   "execution_count": null,
   "metadata": {},
   "outputs": [],
   "source": [
    "rs = ReactionSim(ggdata, reqs, RESTRICTION_ENZYME)\n",
    "res = rs.create_reaction_graph(os.path.join(W_PATH, \"oligos.csv\"))\n",
    "if res is not None:\n",
    "    msg = res[0]\n",
    "    oligo_entry = res[1]\n",
    "    print(msg)\n",
    "    print(f'The choice of degenerate codons {oligo_entry.oligo_codons} in oligo named \"{oligo_entry.name}\" created a new enzyme restriction site!')\n",
    "    print('''This error must be resolved manually!\n",
    "open the file “deg_table.csv” that was created by box 2.2 and find the relevant segment by the name given above.\n",
    "Try to edit the selected codons to eliminate the creation of the BsaI site.\n",
    "Then, comment out the first line in box 2.2 (which created deg_table.csv) and now rerun the notebook again from box 2.2.\n",
    "The notebook will use your edited file without the enzyme restriction site.''')\n"
   ]
  },
  {
   "cell_type": "markdown",
   "metadata": {},
   "source": [
    "### 6.2 Check for WT sequence"
   ]
  },
  {
   "cell_type": "code",
   "execution_count": null,
   "metadata": {},
   "outputs": [],
   "source": [
    "reaction_wts:List[ReactionGraphWt] = list(rs.get_wt_dna())\n",
    "assert 1 == len(reaction_wts), \"Error: {len(reaction_wt)} WT DNA sequences found! expected 1!!\"\n",
    "reaction_wt = reaction_wts[0]\n",
    "assert reaction_wt.dna == dna, \"Error: reaction DNA doesn't match input DNA!!!\""
   ]
  },
  {
   "cell_type": "markdown",
   "metadata": {},
   "source": [
    "### 6.3 Verify all golden gate products\n",
    "**Checks that all products are constructed correctly and have the same length and gates as WT**\n",
    "\n",
    "* Note: This might take a while!"
   ]
  },
  {
   "cell_type": "code",
   "execution_count": null,
   "metadata": {},
   "outputs": [],
   "source": [
    "result = rs.verify_reaction(reaction_wt.end - reaction_wt.start, reaction_wt.no_segments, reaction_wt.fidelity_sum)\n",
    "if result[0]:\n",
    "    msg = '\\n'.join([f'The diversity of the degenerate table ({encoded_diversity}) differs from the one found by the simulation {result[1]}',\n",
    "           'Do not continue or use the product of this run! (unless you know exactly what you\\'re doing',\n",
    "           'Either the golden gate reaction failed, a restriction site appeared or some of the diversity disappeared somewhere!'])\n",
    "    assert result[1] == encoded_diversity, msg\n",
    "    print(f\"Golden gate simulation passed! the number of different products is {result[1]}\")\n",
    "else:\n",
    "    print(\"Verifying golden gate reaction failed!!!\")\n",
    "    print(\"The following product failed verification:\\n\")\n",
    "    print(result[1])"
   ]
  },
  {
   "cell_type": "markdown",
   "metadata": {},
   "source": [
    "## 7. Write order table"
   ]
  },
  {
   "cell_type": "markdown",
   "metadata": {},
   "source": [
    "### 7.1 Settings"
   ]
  },
  {
   "cell_type": "markdown",
   "metadata": {},
   "source": [
    "#### Write constant segments?"
   ]
  },
  {
   "cell_type": "code",
   "execution_count": null,
   "metadata": {},
   "outputs": [],
   "source": [
    "output_const = False"
   ]
  },
  {
   "cell_type": "markdown",
   "metadata": {},
   "source": [
    "#### write WT segments?"
   ]
  },
  {
   "cell_type": "code",
   "execution_count": null,
   "metadata": {},
   "outputs": [],
   "source": [
    "output_wt = False"
   ]
  },
  {
   "cell_type": "markdown",
   "metadata": {},
   "source": [
    "### Write order table to csv file"
   ]
  },
  {
   "cell_type": "code",
   "execution_count": null,
   "metadata": {},
   "outputs": [],
   "source": [
    "oligo_df[(oligo_df.wt <= output_wt) & (oligo_df.const <= output_const)][['name', 'full_oligo_dna']].to_csv(order_table_path)"
   ]
  },
  {
   "cell_type": "markdown",
   "metadata": {},
   "source": [
    "## 8. Download results"
   ]
  },
  {
   "cell_type": "code",
   "execution_count": null,
   "metadata": {},
   "outputs": [],
   "source": [
    "!rm -r /content/sample_data/\n",
    "!tar -czf /content/results.tar.gz --no-recursion -C /content *\n",
    "google.colab.files.download('/content/results.tar.gz')"
   ]
  }
 ],
 "metadata": {
  "kernelspec": {
   "display_name": "Python 3",
   "language": "python",
   "name": "python3"
  },
  "language_info": {
   "codemirror_mode": {
    "name": "ipython",
    "version": 3
   },
   "file_extension": ".py",
   "mimetype": "text/x-python",
   "name": "python",
   "nbconvert_exporter": "python",
   "pygments_lexer": "ipython3",
   "version": "3.9.18"
  }
 },
 "nbformat": 4,
 "nbformat_minor": 4
}
