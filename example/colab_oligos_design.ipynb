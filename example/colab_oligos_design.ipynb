{
  "cells": [
    {
      "cell_type": "markdown",
      "metadata": {
        "id": "ZZuENv_G12XK"
      },
      "source": [
        "[![Open In Colab](https://colab.research.google.com/assets/colab-badge.svg)](https://colab.research.google.com/github/Fleishman-Lab/GGAssembler/blob/master/example/colab_oligos_design.ipynb)"
      ]
    },
    {
      "cell_type": "markdown",
      "metadata": {
        "toc-hr-collapsed": false,
        "id": "HOYvSL9x12XM"
      },
      "source": [
        "<img src=\"https://github.com/Fleishman-Lab/GGAssembler/blob/master/example/golden-gator.png?raw=1\" width=\"100\">\n",
        "\n",
        "## Golden Gator\n",
        "A self contained dna gene segmentation to generate combinatoricaly assembled variant libraries.\n"
      ]
    },
    {
      "cell_type": "markdown",
      "metadata": {
        "toc-hr-collapsed": false,
        "id": "6WLH3DXb12XN"
      },
      "source": [
        "## 1. setup"
      ]
    },
    {
      "cell_type": "code",
      "execution_count": null,
      "metadata": {
        "id": "iJb1eih812XP"
      },
      "outputs": [],
      "source": [
        "# @title Install prerequisites and import python libraries { display-mode: \"form\" }\n",
        "try:\n",
        "    import google.colab\n",
        "    !apt install rustc cargo > /dev/null\n",
        "    !pip install -q --no-warn-conflicts git+https://github.com/Fleishman-Lab/GGAssembler\n",
        "except ImportError:\n",
        "    pass\n",
        "\n",
        "import ast\n",
        "import os\n",
        "\n",
        "import networkx as nx\n",
        "import pandas as pd\n",
        "from typing import List\n",
        "from Bio import SeqIO\n",
        "\n",
        "from dawdlib.embl_utils.embl_maker import create_dc_features, create_path_features\n",
        "from dawdlib.degenerate_dna.deg_table import TableColNames, generate_deg_csv\n",
        "from dawdlib.degenerate_dna.utils import parse_degenerate_codon_csv\n",
        "from dawdlib.dijkstra import colorful\n",
        "from dawdlib.dijkstra.len_limit import all_shortest_paths\n",
        "from dawdlib.gg_dc_combine.gg_dc_combine import dc_df_codon_list, gate_cdn_oligos\n",
        "from dawdlib.golden_gate.find_gg import deg_table_to_dict\n",
        "from dawdlib.golden_gate.gate_data import GGData\n",
        "from dawdlib.golden_gate.graph_maker import (\n",
        "    GraphMaker,\n",
        "    build_custom_graph,\n",
        "    create_default_valid_node_function,\n",
        "    create_default_weight_func,\n",
        "    make_default_graph,\n",
        ")\n",
        "from dawdlib.golden_gate.reaction_sim import ReactionSim, ReactionGraphWt\n",
        "from dawdlib.golden_gate.utils import RequirementsFactory, expand_dna_var_poss, parse_dna, check_for_restriction_sites"
      ]
    },
    {
      "cell_type": "code",
      "execution_count": null,
      "metadata": {
        "id": "3N67M3lG12XS"
      },
      "outputs": [],
      "source": [
        "# @title Define project parameters { display-mode: \"form\" }\n",
        "\n",
        "PROJECT_NAME = 'example' #@param {type:\"string\"}\n",
        "\n",
        "#@markdown ###Set DNA oligo restrictions\n",
        "MIN_OLIGO_LENGTH = 4 # @param {type:\"integer\"}\n",
        "MAX_OLIGO_LENGTH = 100 # @param {type:\"integer\"}\n",
        "MIN_CONST_OLIGO_LENGTH= 15 # @param {type:\"integer\"}\n",
        "MIN_NUM_GATES = 12 # @param {type:\"integer\"}\n",
        "MAX_NUM_GATES = 26 # @param {type:\"integer\"}\n",
        "\n",
        "#@markdown ###Base pair cost of a DNA segment devoid of diversity\n",
        "CONST_COST = 40 # @param {type:\"number\"}\n",
        "\n",
        "#@markdown ###Golden gate overhang and fidelity requirements\n",
        "MIN_EFFICIENCY = 0.25 # @param {type:\"number\"}\n",
        "#@markdown - The amount of trace mismatch allowed = 10 * (1 - MIN_FIDELITY)\n",
        "MIN_FIDELITY = 0.1 # @param {type:\"number\"}\n",
        "\n",
        "#@markdown ###Restriction enzyme settings:\n",
        "RESTRICTION_ENZYME = \"BsaI\" # @param {type:\"string\"}\n",
        "RESTRICTION_ENZYME = [RESTRICTION_ENZYME]\n",
        "#@markdown ###### Set overhanglength to 3 base pairs instead of 4 is you're using a resriction enzyme which produces an overhang of 3 bps such as SapI.\n",
        "overhanglength = 4 # @param {type:\"integer\"}\n",
        "#@markdown ###### Must include the enzyme's restriction pattern at the end\n",
        "PREFIX = \"GACATTGGTCTCA\" # @param {type:\"string\"}\n",
        "#@markdown ###### Must include the enzyme's restriction pattern at the begining\n",
        "SUFFIX = \"TGAGACCAACGACGCCGTACTCTTTGTCAAC\" # @param {type:\"string\"}\n",
        "\n",
        "reqs = RequirementsFactory(\n",
        "    min_oligo_length = MIN_OLIGO_LENGTH,\n",
        "    max_oligo_length = MAX_OLIGO_LENGTH,\n",
        "    min_const_oligo_length = MIN_CONST_OLIGO_LENGTH,\n",
        "    min_efficiency=MIN_EFFICIENCY,\n",
        "    min_fidelity=MIN_FIDELITY,\n",
        "    oligo_prefix=PREFIX,\n",
        "    oligo_suffix=SUFFIX,\n",
        "    const_cost = CONST_COST,\n",
        "    filter_gc_overhangs = False\n",
        ")\n",
        "\n",
        "ggdata = GGData(\n",
        "    temperature=reqs.gg_temp,\n",
        "    hours=reqs.gg_hours,\n",
        "    min_efficiency=reqs.min_efficiency,\n",
        "    min_fidelity=reqs.min_fidelity\n",
        ")"
      ]
    },
    {
      "cell_type": "code",
      "execution_count": null,
      "metadata": {
        "id": "_ZaGJfdw12XS"
      },
      "outputs": [],
      "source": [
        "# @title Load input data { display-mode: \"form\" }\n",
        "# @markdown ####Upload files by clicking the folder icon on the left bar followed by clicking the upload icon.\n",
        "# @markdown **Only after you've uploaded and set the file names run this cell.**\n",
        "\n",
        "# @markdown - Upload rosetta style Resfile specifying Amino acid diversity\n",
        "# @markdown and set the input file name in the following text-box.\n",
        "\n",
        "# @markdown you can use the example data found here [example data](https://raw.githubusercontent.com/Fleishman-Lab/GGAssembler/master/example/input.resfile)\n",
        "resfile = 'input.resfile' # @param {type:\"string\"}\n",
        "\n",
        "# @markdown - Upload the WT DNA sequence file in fasta format\n",
        "# @markdown and set the input file name in the following text-box\n",
        "\n",
        "# @markdown you can use the example WT fasta found here [example data](https://raw.githubusercontent.com/Fleishman-Lab/GGAssembler/master/example/wt_dna.fasta)\n",
        "wt_dna = 'wt_dna.fasta' # @param {type:\"string\"}\n",
        "\n",
        "W_PATH = \"/content\"\n",
        "resfile_path = os.path.join(W_PATH,\"input.resfile\")\n",
        "dna_path = os.path.join(W_PATH,wt_dna)\n",
        "embl_path = os.path.join(W_PATH,\"output.embl\")\n",
        "deg_table_path = os.path.join(W_PATH,\"deg_table.csv\")\n",
        "chosen_path_path = os.path.join(W_PATH, 'chosen_path.csv')\n",
        "order_table_path = os.path.join(W_PATH, \"order_table.csv\")\n",
        "oligo_table_path = os.path.join(W_PATH, \"oligos.csv\")\n",
        "dna = parse_dna(dna_path).upper()"
      ]
    },
    {
      "cell_type": "code",
      "execution_count": null,
      "metadata": {
        "pycharm": {
          "name": "#%%\n"
        },
        "id": "wrpITckg12XV"
      },
      "outputs": [],
      "source": [
        "# @title View available ligation data { display-mode: \"form\" }\n",
        "import dawdlib.golden_gate.resources as gg_resources\n",
        "for lig_data in gg_resources.ligation_data.keys():\n",
        "    print(f'{lig_data}')"
      ]
    },
    {
      "cell_type": "code",
      "execution_count": null,
      "metadata": {
        "pycharm": {
          "name": "#%%\n"
        },
        "id": "81uJp8zD12XV"
      },
      "outputs": [],
      "source": [
        "# @title Use custom ligation data { display-mode: \"form\" }\n",
        "# @markdown Enter a name from the dictionary printed above or upload a custom table and provide it's name\n",
        "ligation_data_table = 'FileS_T4_18h_37C.csv' # @param {type:\"string\"}\n",
        "\n",
        "ggdata.set_default_df(ligation_data_table)\n",
        "ggdata.init()"
      ]
    },
    {
      "cell_type": "code",
      "execution_count": null,
      "metadata": {
        "pycharm": {
          "name": "#%%\n"
        },
        "id": "tgcZ5CjU12XW"
      },
      "outputs": [],
      "source": [
        "# @title Restriction enzyme verification { display-mode: \"form\" }\n",
        "# @markdown Verifies the used restriction enzyme's restriction site doesn't appear in WT DNA sequence\n",
        "sites = check_for_restriction_sites(dna, RESTRICTION_ENZYME)\n",
        "assert sites[0], f'Restriction enzyme {sites[1]} recognition site were found at positions {sites[2]} in the dna.'"
      ]
    },
    {
      "cell_type": "markdown",
      "metadata": {
        "id": "WQtwEwh912XW"
      },
      "source": [
        "## 2. Degenerate codons"
      ]
    },
    {
      "cell_type": "code",
      "execution_count": null,
      "metadata": {
        "id": "0rYW-eJj12XW"
      },
      "outputs": [],
      "source": [
        "# @title ### 2.1 Generate degenerate codon table { display-mode: \"form\" }\n",
        "generate_deg_csv(resfile_path, csv_filename=deg_table_path)\n",
        "deg_table = pd.read_csv(deg_table_path, na_filter=True, keep_default_na=False,)\n",
        "encoded_diversity = deg_table.ENCODED_COUNT.apply(ast.literal_eval).apply(sum).prod()\n",
        "print(f'The encoded diversity has {encoded_diversity} variants.')"
      ]
    },
    {
      "cell_type": "code",
      "execution_count": null,
      "metadata": {
        "id": "H8IILfUP12XX"
      },
      "outputs": [],
      "source": [
        "# @title ### 2.2 View degenerate codon table { display-mode: \"form\" }\n",
        "deg_table"
      ]
    },
    {
      "cell_type": "markdown",
      "metadata": {
        "id": "PIUgX5Wm12XX"
      },
      "source": [
        "## 3. Find golden gates"
      ]
    },
    {
      "cell_type": "code",
      "execution_count": null,
      "metadata": {
        "id": "3tuyHAmG12XX"
      },
      "outputs": [],
      "source": [
        "# @title ### 3.1 Create a graph { display-mode: \"form\" }\n",
        "# @markdown **Either use the default, or custom blocks.**\n",
        "use_default = True # @param {type:\"boolean\"}\n",
        "if use_default:\n",
        "    gm = GraphMaker(ggdata)\n",
        "    var_poss = expand_dna_var_poss(deg_table[TableColNames.DNA_POS.value].tolist())\n",
        "    graph, src, target = make_default_graph(\n",
        "        gm, dna, var_poss, deg_table_to_dict(deg_table), reqs, overhanglength\n",
        "    )\n",
        "if not use_default:\n",
        "    gm = GraphMaker(ggdata)\n",
        "    var_poss = expand_dna_var_poss(deg_table[TableColNames.DNA_POS.value].tolist())\n",
        "\n",
        "    is_valid_edge = gm.create_default_valid_edge_func(\n",
        "        dna_var_poss=var_poss,\n",
        "        min_oligo_length=MIN_OLIGO_LENGTH,\n",
        "        max_oligo_length=MAX_OLIGO_LENGTH - len(PREFIX) - len(SUFFIX),\n",
        "        min_const_oligo_length=MIN_CONST_OLIGO_LENGTH,\n",
        "        min_fidelity=MIN_FIDELITY,\n",
        "    )\n",
        "\n",
        "\n",
        "    def cost_func(nd1, nd2):\n",
        "        default = create_default_weight_func(\n",
        "            dna_pos_n_codons=deg_table_to_dict(deg_table),\n",
        "            oligo_addition=0,\n",
        "            const_cost=0,\n",
        "        )\n",
        "        return default(nd1, nd2) + len(SUFFIX) + len(PREFIX)\n",
        "\n",
        "\n",
        "    acceptable_fcws = ggdata.filter_self_binding_gates(filter_gc=True)\n",
        "    is_valid_node = create_default_valid_node_function(acceptable_fcws, var_poss)\n",
        "\n",
        "    graph, src, target = build_custom_graph(\n",
        "        dna, is_valid_node, is_valid_edge, cost_func\n",
        "    )"
      ]
    },
    {
      "cell_type": "code",
      "execution_count": null,
      "metadata": {
        "id": "hU6E34NY12XZ"
      },
      "outputs": [],
      "source": [
        "# @title ### 3.2 Find shortest paths { display-mode: \"form\" }\n",
        "from collections import defaultdict\n",
        "\n",
        "shortest_paths = all_shortest_paths(\n",
        "    graph, src, target, weight=\"weight\", len_cutoff=MAX_NUM_GATES\n",
        ")\n",
        "best_paths = defaultdict(list)\n",
        "bad_paths = defaultdict(list)\n",
        "max_shortest_paths = int(1e4)\n",
        "try:\n",
        "    for i, (pth, cost) in enumerate(shortest_paths):\n",
        "        if i > max_shortest_paths:\n",
        "            break\n",
        "        rpth = [p for p in pth if not p.src_or_target]\n",
        "        overhangs = [a.bps for a in rpth]\n",
        "        try:\n",
        "            reaction_fidelities = ggdata.reaction_fidelity(*overhangs)\n",
        "        except ValueError:\n",
        "            bad_paths[len(rpth)].append((pth, None))\n",
        "            continue\n",
        "        neb_fidelity = reaction_fidelities[0]\n",
        "        if neb_fidelity > MIN_FIDELITY:\n",
        "            best_paths[len(rpth)].append((pth, cost, neb_fidelity, i))\n",
        "            continue\n",
        "        bad_paths[len(rpth)].append((pth, neb_fidelity))\n",
        "except nx.NetworkXNoPath:\n",
        "    print(f\"No path was found between {src} and {target}\")\n"
      ]
    },
    {
      "cell_type": "code",
      "execution_count": null,
      "metadata": {
        "id": "nsBQKtMp12XZ"
      },
      "outputs": [],
      "source": [
        "# @title #### 3.2.1 View found shortest paths { display-mode: \"form\" }\n",
        "for length, path_list in best_paths.items():\n",
        "    for i, v in enumerate(path_list):\n",
        "        print(f\"Path ID: {length}-{i}. Number of overhangs: {len([a for a in v[0] if not a.src_or_target])}. Cost: {v[1]}. Fidelity: {v[2]}\")"
      ]
    },
    {
      "cell_type": "code",
      "execution_count": null,
      "metadata": {
        "id": "0_wPJyMm12Xa"
      },
      "outputs": [],
      "source": [
        "# @title #### 3.2.2 Find __*colorful*__ shortest paths { display-mode: \"form\" }\n",
        "colorful_retries = 100 # @param {type:\"integer\"}\n",
        "spf = colorful.ShortestPathFinder(graph, ggdata, src, target)\n",
        "for max_gates in range(MIN_NUM_GATES, MAX_NUM_GATES+1):\n",
        "    for i in range(colorful_retries):\n",
        "        pth = spf.find_shortest_path(len_cutoff=max_gates, no_colors=max_gates+1)\n",
        "        if pth:\n",
        "            rpth = [p for p in pth if not p.src_or_target]\n",
        "            overhangs = [a.bps for a in rpth]\n",
        "            reaction_fidelities = ggdata.reaction_fidelity(*overhangs)\n",
        "            neb_fidelity = reaction_fidelities[0]\n",
        "            if neb_fidelity < MIN_FIDELITY:\n",
        "                continue\n",
        "            pth_len = len(pth)\n",
        "            cost = sum(\n",
        "                (graph.edges[n1, n2][\"weight\"] for n1, n2 in zip(pth[:-1], pth[1:]))\n",
        "            )\n",
        "            best_paths[len(rpth)].append((pth, cost, neb_fidelity, i))"
      ]
    },
    {
      "cell_type": "code",
      "execution_count": null,
      "metadata": {
        "id": "GCNvjpkn12Xa"
      },
      "outputs": [],
      "source": [
        "# @title ##### 3.2.2.2 View found *colorful* paths { display-mode: \"form\" }\n",
        "for length, path_list in best_paths.items():\n",
        "    for i, v in enumerate(path_list):\n",
        "        print(f\"Path ID: {length}-{i}. Number of overhangs: {len([a for a in v[0] if not a.src_or_target])}. Cost: {v[1]}. Fidelity: {v[2]}\")"
      ]
    },
    {
      "cell_type": "code",
      "execution_count": null,
      "metadata": {
        "id": "msbclgz212Xb"
      },
      "outputs": [],
      "source": [
        "# @title ### 3.3 choose whichever solution you prefer by it's ID. { display-mode: \"form\" }\n",
        "# @markdown Example: Path ID: '15-14' translates to best_paths[15][14].\n",
        "chosen_path_id = '15-14' #@param {type:\"string\"}\n",
        "chosen_path_length = int(chosen_path_id.strip().split('-')[0])\n",
        "chosen_path_index = int(chosen_path_id.strip().split('-')[1])\n",
        "chosen_entry = best_paths[chosen_path_length][chosen_path_index]\n",
        "chosen_path = chosen_entry[0]"
      ]
    },
    {
      "cell_type": "code",
      "execution_count": null,
      "metadata": {
        "id": "nzyf4oNr12Xc"
      },
      "outputs": [],
      "source": [
        "# @title #### 3.3.1 View chosen path { display-mode: \"form\" }\n",
        "chosen_path"
      ]
    },
    {
      "cell_type": "code",
      "execution_count": null,
      "metadata": {
        "id": "m6oBxWK412Xc"
      },
      "outputs": [],
      "source": [
        "# @title #### 3.3.2 save chosen path to csv { display-mode: \"form\" }\n",
        "path_df = pd.DataFrame.from_records(chosen_path, columns=chosen_path[0].__annotations__.keys())\n",
        "path_df.to_csv(chosen_path_path)"
      ]
    },
    {
      "cell_type": "markdown",
      "metadata": {
        "id": "9VHdmx6d12Xc"
      },
      "source": [
        "## 4. Create embl feature view"
      ]
    },
    {
      "cell_type": "code",
      "execution_count": null,
      "metadata": {
        "id": "lc1-39Ox12Xc"
      },
      "outputs": [],
      "source": [
        "# @title ### 4.1 Prepare degenerate codon and gates features { display-mode: \"form\" }\n",
        "deg_parsed_df = parse_degenerate_codon_csv(deg_table_path)\n",
        "seq_features = create_dc_features(deg_parsed_df)\n",
        "pth_features = create_path_features(chosen_path)"
      ]
    },
    {
      "cell_type": "code",
      "execution_count": null,
      "metadata": {
        "id": "GL41qOZD12Xd"
      },
      "outputs": [],
      "source": [
        "# @title ### 4.2 Save embl file with all features { display-mode: \"form\" }\n",
        "seq_rec = SeqIO.read(dna_path, format=\"fasta\")\n",
        "seq_rec.annotations.update({\"molecule_type\": \"DNA\"})\n",
        "seq_rec.features.extend(seq_features)\n",
        "seq_rec.features.extend(pth_features)\n",
        "SeqIO.write(seq_rec, embl_path, \"embl\")"
      ]
    },
    {
      "cell_type": "code",
      "execution_count": null,
      "metadata": {
        "id": "aSZVKhrq12Xd"
      },
      "outputs": [],
      "source": [
        "# @title ## 5. Create oligo table { display-mode: \"form\" }\n",
        "oligo_df = gate_cdn_oligos(chosen_path, dc_df_codon_list(deg_table), dna, reqs.oligo_prefix, reqs.oligo_suffix, PROJECT_NAME)\n",
        "oligo_df.to_csv(oligo_table_path)"
      ]
    },
    {
      "cell_type": "markdown",
      "metadata": {
        "id": "Z9DWkKZh12Xe"
      },
      "source": [
        "## 6. Verify golden gate reaction"
      ]
    },
    {
      "cell_type": "code",
      "execution_count": null,
      "metadata": {
        "id": "0Tvw4Wbt12Xe"
      },
      "outputs": [],
      "source": [
        "# @title ### 6.1 Create golden gate simulator and load oligo table { display-mode: \"form\" }\n",
        "rs = ReactionSim(ggdata, reqs, RESTRICTION_ENZYME)\n",
        "res = rs.create_reaction_graph(os.path.join(W_PATH, \"oligos.csv\"))\n",
        "if res is not None:\n",
        "    msg = res[0]\n",
        "    oligo_entry = res[1]\n",
        "    print(msg)\n",
        "    print(f'The choice of degenerate codons {oligo_entry.oligo_codons} in oligo named \"{oligo_entry.name}\" created a new enzyme restriction site!')\n",
        "    print('''This error must be resolved manually!\n",
        "open the file “deg_table.csv” that was created by box 2.2 and find the relevant segment by the name given above.\n",
        "Try to edit the selected codons to eliminate the creation of the BsaI site.\n",
        "Then, comment out the first line in box 2.2 (which created deg_table.csv) and now rerun the notebook again from box 2.2.\n",
        "The notebook will use your edited file without the enzyme restriction site.''')\n"
      ]
    },
    {
      "cell_type": "code",
      "execution_count": null,
      "metadata": {
        "id": "y_YCit1012Xf"
      },
      "outputs": [],
      "source": [
        "# @title ### 6.2 Check for WT sequence { display-mode: \"form\" }\n",
        "reaction_wts:List[ReactionGraphWt] = list(rs.get_wt_dna())\n",
        "assert 1 == len(reaction_wts), \"Error: {len(reaction_wt)} WT DNA sequences found! expected 1!!\"\n",
        "reaction_wt = reaction_wts[0]\n",
        "assert reaction_wt.dna == dna, \"Error: reaction DNA doesn't match input DNA!!!\""
      ]
    },
    {
      "cell_type": "code",
      "execution_count": null,
      "metadata": {
        "id": "mTQzcqUb12Xf"
      },
      "outputs": [],
      "source": [
        "# @title ### 6.3 Verify all golden gate products { display-mode: \"form\" }\n",
        "# @markdown **Checks that all products are constructed correctly and have the same length and gates as WT**\n",
        "\n",
        "# @markdown  * Note: This might take a while!\n",
        "result = rs.verify_reaction(reaction_wt.end - reaction_wt.start, reaction_wt.no_segments, reaction_wt.fidelity_sum)\n",
        "if result[0]:\n",
        "    msg = '\\n'.join([f'The diversity of the degenerate table ({encoded_diversity}) differs from the one found by the simulation {result[1]}',\n",
        "           'Do not continue or use the product of this run! (unless you know exactly what you\\'re doing',\n",
        "           'Either the golden gate reaction failed, a restriction site appeared or some of the diversity disappeared somewhere!'])\n",
        "    assert result[1] == encoded_diversity, msg\n",
        "    print(f\"Golden gate simulation passed! the number of different products is {result[1]}\")\n",
        "else:\n",
        "    print(\"Verifying golden gate reaction failed!!!\")\n",
        "    print(\"The following product failed verification:\\n\")\n",
        "    print(result[1])"
      ]
    },
    {
      "cell_type": "code",
      "execution_count": null,
      "metadata": {
        "id": "BW0Mtmtw12Xg"
      },
      "outputs": [],
      "source": [
        "# @title ## 7. Write order table { display-mode: \"form\" }\n",
        "# @markdown #### Write constant segments?\n",
        "output_const = True # @param {type:\"boolean\"}\n",
        "# @markdown #### write WT segments?\n",
        "output_wt = True # @param {type:\"boolean\"}\n",
        "oligo_df[(oligo_df.wt <= output_wt) & (oligo_df.const <= output_const)][['name', 'full_oligo_dna']].to_csv(order_table_path)"
      ]
    },
    {
      "cell_type": "code",
      "execution_count": null,
      "metadata": {
        "id": "uh5c3JO012Xh"
      },
      "outputs": [],
      "source": [
        "# @title ## 8. Download results { display-mode: \"form\" }\n",
        "!rm -r /content/sample_data/\n",
        "!tar -czf /content/results.tar.gz --no-recursion -C /content *\n",
        "google.colab.files.download('/content/results.tar.gz')"
      ]
    }
  ],
  "metadata": {
    "kernelspec": {
      "display_name": "Python 3",
      "language": "python",
      "name": "python3"
    },
    "language_info": {
      "codemirror_mode": {
        "name": "ipython",
        "version": 3
      },
      "file_extension": ".py",
      "mimetype": "text/x-python",
      "name": "python",
      "nbconvert_exporter": "python",
      "pygments_lexer": "ipython3",
      "version": "3.9.18"
    },
    "colab": {
      "provenance": []
    }
  },
  "nbformat": 4,
  "nbformat_minor": 0
}
