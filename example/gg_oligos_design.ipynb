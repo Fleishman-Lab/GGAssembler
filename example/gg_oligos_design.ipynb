{
 "cells": [
  {
   "cell_type": "markdown",
   "metadata": {
    "toc-hr-collapsed": false
   },
   "source": [
    "<img src=\"golden-gator.png\" width=\"400\">"
   ]
  },
  {
   "cell_type": "markdown",
   "metadata": {
    "toc-hr-collapsed": false
   },
   "source": [
    "# Godlen Gator notebook"
   ]
  },
  {
   "cell_type": "markdown",
   "metadata": {
    "toc-hr-collapsed": false
   },
   "source": [
    "## 1. setup "
   ]
  },
  {
   "cell_type": "markdown",
   "metadata": {},
   "source": [
    "### 1.1 Imports"
   ]
  },
  {
   "cell_type": "code",
   "execution_count": 1,
   "metadata": {},
   "outputs": [],
   "source": [
    "import ast\n",
    "import os\n",
    "\n",
    "import networkx as nx\n",
    "import pandas as pd\n",
    "from typing import List\n",
    "from Bio import SeqFeature, SeqIO\n",
    "\n",
    "from dawdlib.embl_utils.embl_maker import create_dc_features, create_path_features\n",
    "from dawdlib.degenerate_dna.deg_table import TableColNames, generate_deg_csv\n",
    "from dawdlib.degenerate_dna.utils import parse_degenerate_codon_csv\n",
    "from dawdlib.dijkstra import colorful\n",
    "from dawdlib.dijkstra.len_limit import all_shortest_paths\n",
    "from dawdlib.gg_dc_combine.gg_dc_combine import dc_df_codon_list, gate_cdn_oligos\n",
    "from dawdlib.golden_gate.find_gg import deg_table_to_dict\n",
    "from dawdlib.golden_gate.gate_data import GGData\n",
    "from dawdlib.golden_gate.graph_maker import (\n",
    "    GraphMaker,\n",
    "    build_custom_graph,\n",
    "    create_default_valid_node_function,\n",
    "    create_default_weight_func,\n",
    "    make_default_graph,\n",
    ")\n",
    "from dawdlib.golden_gate.reaction_sim import ReactionSim, ReactionGraphWt\n",
    "from dawdlib.golden_gate.utils import RequirementsFactory, expand_dna_var_poss, parse_dna, check_for_restriction_sites"
   ]
  },
  {
   "cell_type": "markdown",
   "metadata": {},
   "source": [
    "### 1.2 Constants and Paths"
   ]
  },
  {
   "cell_type": "code",
   "execution_count": 15,
   "metadata": {},
   "outputs": [],
   "source": [
    "GG_TEMP = 25\n",
    "GG_HOURS = 18\n",
    "MIN_OLIGO_LENGTH: int = 20\n",
    "MAX_OLIGO_LENGTH: int = 90\n",
    "MIN_CONST_OLIGO_LENGTH: int = 20\n",
    "MIN_NUM_GATES = 6\n",
    "MAX_NUM_GATES = 20\n",
    "MIN_EFFICIENCY = 0.25\n",
    "MIN_FIDELITY = 0.9\n",
    "CONST_COST = 40\n",
    "RESTRICTION_ENZYME = [\"BsaI\"]\n",
    "gatelength = 4\n",
    "PREFIX = \"GACATTGGTCTCA\"\n",
    "SUFFIX = \"TGAGACCAACGACGCCGTACTCTTTGTCAAC\"\n",
    "\n",
    "    \n",
    "\n",
    "reqs = RequirementsFactory(\n",
    "    gg_temp = GG_TEMP,\n",
    "    gg_hours = GG_HOURS,\n",
    "    min_oligo_length = MIN_OLIGO_LENGTH,\n",
    "    max_oligo_length = MAX_OLIGO_LENGTH,\n",
    "    min_const_oligo_length = MIN_CONST_OLIGO_LENGTH,\n",
    "    min_efficiency=MIN_EFFICIENCY,\n",
    "    min_fidelity=MIN_FIDELITY,\n",
    "    oligo_prefix=PREFIX,\n",
    "    oligo_suffix=SUFFIX,\n",
    "    const_cost = CONST_COST\n",
    ")\n",
    "\n",
    "W_PATH = \"/Users/sh/Code/dawdlib/example\"\n",
    "resfile_path = os.path.join(W_PATH,\"chosen_18Dec.resfile\")\n",
    "dna_path = os.path.join(W_PATH,\"wt_dna.fasta\")\n",
    "embl_path = os.path.join(W_PATH,\"wt_features_newgg.embl\")\n",
    "deg_table_path = os.path.join(W_PATH,\"deg_table_newgg.csv\")\n",
    "\n",
    "ggdata = GGData(\n",
    "    temperature=reqs.gg_temp,\n",
    "    hours=reqs.gg_hours,\n",
    "    min_efficiency=reqs.min_efficiency,\n",
    "    min_fidelity=reqs.min_fidelity\n",
    ")\n",
    "dna = parse_dna(dna_path).upper()"
   ]
  },
  {
   "cell_type": "markdown",
   "metadata": {},
   "source": [
    "### 1.2.1 Option to use 3 base pair gates instead of 4\n",
    "### *Make sure to uncomment the next cell if you require using 3 base pairs instead of 4 or a different overhang data table from the ones provided built-in.*"
   ]
  },
  {
   "cell_type": "code",
   "execution_count": 3,
   "metadata": {},
   "outputs": [],
   "source": [
    "# please make sure that you have changed the gatelength, RESTRICTION_ENZYME, PREFIX, and SUFFIX above\n",
    "# path_to_ligation_data = \"/home/labs/fleishman/arielte/dawdlib/dawdlib/golden_gate/resources/SapI.csv\"\n",
    "# set this path to be csv to ligation data\n",
    "# ggdata.set_default_df(path_to_ligation_data)\n",
    "# ggdata.init()"
   ]
  },
  {
   "cell_type": "markdown",
   "metadata": {
    "pycharm": {
     "name": "#%% md\n"
    }
   },
   "source": [
    "### Restriction enzyme verification"
   ]
  },
  {
   "cell_type": "code",
   "execution_count": 4,
   "metadata": {
    "pycharm": {
     "name": "#%%\n"
    }
   },
   "outputs": [],
   "source": [
    "sites = check_for_restriction_sites(dna, RESTRICTION_ENZYME)\n",
    "assert sites[0], f'Restriction enzyme {sites[1]} recognition site were found at positions {sites[2]} in the dna.'"
   ]
  },
  {
   "cell_type": "markdown",
   "metadata": {},
   "source": [
    "## 2. Degenerate codons"
   ]
  },
  {
   "cell_type": "markdown",
   "metadata": {
    "toc-hr-collapsed": true
   },
   "source": [
    "### 2.1 Generate degenerate codon table"
   ]
  },
  {
   "cell_type": "code",
   "execution_count": 5,
   "metadata": {},
   "outputs": [
    {
     "name": "stdout",
     "output_type": "stream",
     "text": [
      "The encoded diversity has 11059200 variants.\n"
     ]
    }
   ],
   "source": [
    "generate_deg_csv(resfile_path, csv_filename=deg_table_path)\n",
    "deg_table = pd.read_csv(deg_table_path, na_filter=True, keep_default_na=False,)\n",
    "encoded_diversity = deg_table.ENCODED_COUNT.apply(ast.literal_eval).apply(sum).prod()\n",
    "print(f'The encoded diversity has {encoded_diversity} variants.')"
   ]
  },
  {
   "cell_type": "markdown",
   "metadata": {},
   "source": [
    "### 2.2 View degenerate codon table"
   ]
  },
  {
   "cell_type": "code",
   "execution_count": 6,
   "metadata": {},
   "outputs": [
    {
     "data": {
      "text/plain": "    AA_POS  DNA_POS                               ENCODED_AAS  \\\n0       16       46                                ['I', 'V']   \n1       42      124                                ['L', 'V']   \n2       61      181                           ['A', 'L', 'V']   \n3       65      193                                ['S', 'T']   \n4       68      202                           ['A', 'M', 'V']   \n5       69      205                      ['A', 'L', 'P', 'Q']   \n6       72      214                 ['A', 'C', 'S', 'T', 'V']   \n7      108      322                 ['E', 'I', 'L', 'T', 'V']   \n8      112      334                                ['I', 'V']   \n9      145      433  ['A', 'F', 'I', 'M', 'S', 'T', 'V', 'Y']   \n10     150      448                                ['I', 'V']   \n11     167      499                                ['T', 'V']   \n12     181      541            ['F', 'H', 'I', 'L', 'V', 'Y']   \n13     220      658                                ['L', 'V']   \n14     224      670                                ['I', 'V']   \n\n               ENCODED_COUNT AMBIGUOUS_CODONS1 AMBIGUOUS_CODONS2  \\\n0                     [1, 1]               RTT                     \n1                     [1, 1]               STG                     \n2                  [1, 1, 1]               STG               GCA   \n3                     [1, 1]               ASC                     \n4                  [1, 1, 1]               RTG               GCA   \n5               [1, 1, 1, 1]               GCA               CHG   \n6            [1, 1, 1, 1, 1]               GTT               WGC   \n7            [1, 1, 1, 1, 1]               GAA               AYT   \n8                     [1, 1]               RTT                     \n9   [1, 1, 1, 1, 1, 1, 1, 1]               TWT               RYG   \n10                    [1, 1]               RTT                     \n11                    [1, 1]               GTT               ACC   \n12        [1, 1, 1, 1, 1, 1]               YWT               RTT   \n13                    [1, 1]               STG                     \n14                    [1, 1]               RTT                     \n\n   AMBIGUOUS_CODONS3  \n0                     \n1                     \n2                     \n3                     \n4                     \n5                     \n6                RCC  \n7                STG  \n8                     \n9                AKT  \n10                    \n11                    \n12                    \n13                    \n14                    ",
      "text/html": "<div>\n<style scoped>\n    .dataframe tbody tr th:only-of-type {\n        vertical-align: middle;\n    }\n\n    .dataframe tbody tr th {\n        vertical-align: top;\n    }\n\n    .dataframe thead th {\n        text-align: right;\n    }\n</style>\n<table border=\"1\" class=\"dataframe\">\n  <thead>\n    <tr style=\"text-align: right;\">\n      <th></th>\n      <th>AA_POS</th>\n      <th>DNA_POS</th>\n      <th>ENCODED_AAS</th>\n      <th>ENCODED_COUNT</th>\n      <th>AMBIGUOUS_CODONS1</th>\n      <th>AMBIGUOUS_CODONS2</th>\n      <th>AMBIGUOUS_CODONS3</th>\n    </tr>\n  </thead>\n  <tbody>\n    <tr>\n      <th>0</th>\n      <td>16</td>\n      <td>46</td>\n      <td>['I', 'V']</td>\n      <td>[1, 1]</td>\n      <td>RTT</td>\n      <td></td>\n      <td></td>\n    </tr>\n    <tr>\n      <th>1</th>\n      <td>42</td>\n      <td>124</td>\n      <td>['L', 'V']</td>\n      <td>[1, 1]</td>\n      <td>STG</td>\n      <td></td>\n      <td></td>\n    </tr>\n    <tr>\n      <th>2</th>\n      <td>61</td>\n      <td>181</td>\n      <td>['A', 'L', 'V']</td>\n      <td>[1, 1, 1]</td>\n      <td>STG</td>\n      <td>GCA</td>\n      <td></td>\n    </tr>\n    <tr>\n      <th>3</th>\n      <td>65</td>\n      <td>193</td>\n      <td>['S', 'T']</td>\n      <td>[1, 1]</td>\n      <td>ASC</td>\n      <td></td>\n      <td></td>\n    </tr>\n    <tr>\n      <th>4</th>\n      <td>68</td>\n      <td>202</td>\n      <td>['A', 'M', 'V']</td>\n      <td>[1, 1, 1]</td>\n      <td>RTG</td>\n      <td>GCA</td>\n      <td></td>\n    </tr>\n    <tr>\n      <th>5</th>\n      <td>69</td>\n      <td>205</td>\n      <td>['A', 'L', 'P', 'Q']</td>\n      <td>[1, 1, 1, 1]</td>\n      <td>GCA</td>\n      <td>CHG</td>\n      <td></td>\n    </tr>\n    <tr>\n      <th>6</th>\n      <td>72</td>\n      <td>214</td>\n      <td>['A', 'C', 'S', 'T', 'V']</td>\n      <td>[1, 1, 1, 1, 1]</td>\n      <td>GTT</td>\n      <td>WGC</td>\n      <td>RCC</td>\n    </tr>\n    <tr>\n      <th>7</th>\n      <td>108</td>\n      <td>322</td>\n      <td>['E', 'I', 'L', 'T', 'V']</td>\n      <td>[1, 1, 1, 1, 1]</td>\n      <td>GAA</td>\n      <td>AYT</td>\n      <td>STG</td>\n    </tr>\n    <tr>\n      <th>8</th>\n      <td>112</td>\n      <td>334</td>\n      <td>['I', 'V']</td>\n      <td>[1, 1]</td>\n      <td>RTT</td>\n      <td></td>\n      <td></td>\n    </tr>\n    <tr>\n      <th>9</th>\n      <td>145</td>\n      <td>433</td>\n      <td>['A', 'F', 'I', 'M', 'S', 'T', 'V', 'Y']</td>\n      <td>[1, 1, 1, 1, 1, 1, 1, 1]</td>\n      <td>TWT</td>\n      <td>RYG</td>\n      <td>AKT</td>\n    </tr>\n    <tr>\n      <th>10</th>\n      <td>150</td>\n      <td>448</td>\n      <td>['I', 'V']</td>\n      <td>[1, 1]</td>\n      <td>RTT</td>\n      <td></td>\n      <td></td>\n    </tr>\n    <tr>\n      <th>11</th>\n      <td>167</td>\n      <td>499</td>\n      <td>['T', 'V']</td>\n      <td>[1, 1]</td>\n      <td>GTT</td>\n      <td>ACC</td>\n      <td></td>\n    </tr>\n    <tr>\n      <th>12</th>\n      <td>181</td>\n      <td>541</td>\n      <td>['F', 'H', 'I', 'L', 'V', 'Y']</td>\n      <td>[1, 1, 1, 1, 1, 1]</td>\n      <td>YWT</td>\n      <td>RTT</td>\n      <td></td>\n    </tr>\n    <tr>\n      <th>13</th>\n      <td>220</td>\n      <td>658</td>\n      <td>['L', 'V']</td>\n      <td>[1, 1]</td>\n      <td>STG</td>\n      <td></td>\n      <td></td>\n    </tr>\n    <tr>\n      <th>14</th>\n      <td>224</td>\n      <td>670</td>\n      <td>['I', 'V']</td>\n      <td>[1, 1]</td>\n      <td>RTT</td>\n      <td></td>\n      <td></td>\n    </tr>\n  </tbody>\n</table>\n</div>"
     },
     "execution_count": 6,
     "metadata": {},
     "output_type": "execute_result"
    }
   ],
   "source": [
    "deg_table"
   ]
  },
  {
   "cell_type": "markdown",
   "metadata": {},
   "source": [
    "## 3. Find golden gates"
   ]
  },
  {
   "cell_type": "markdown",
   "metadata": {
    "toc-hr-collapsed": true
   },
   "source": [
    "### 3.1 Create a graph\n",
    "**Either use the default, or custom blocks.**"
   ]
  },
  {
   "cell_type": "code",
   "execution_count": 7,
   "metadata": {},
   "outputs": [],
   "source": [
    "use_default = True"
   ]
  },
  {
   "cell_type": "markdown",
   "metadata": {},
   "source": [
    "#### 3.1.1 Default graph"
   ]
  },
  {
   "cell_type": "code",
   "execution_count": 8,
   "metadata": {},
   "outputs": [],
   "source": [
    "if use_default:\n",
    "    gm = GraphMaker(ggdata)\n",
    "    var_poss = expand_dna_var_poss(deg_table[TableColNames.DNA_POS.value].tolist())\n",
    "    graph, src, target = make_default_graph(\n",
    "        GraphMaker(ggdata), dna, var_poss, deg_table_to_dict(deg_table), reqs, gatelength\n",
    "    )"
   ]
  },
  {
   "cell_type": "markdown",
   "metadata": {},
   "source": [
    "#### 3.1.2 Custom graph"
   ]
  },
  {
   "cell_type": "code",
   "execution_count": 9,
   "metadata": {},
   "outputs": [],
   "source": [
    "if not use_default:\n",
    "    gm = GraphMaker(ggdata)\n",
    "    var_poss = expand_dna_var_poss(deg_table[TableColNames.DNA_POS.value].tolist())\n",
    "\n",
    "    is_valid_edge = gm.create_default_valid_edge_func(\n",
    "        dna_var_poss=var_poss,\n",
    "        min_oligo_length=MIN_OLIGO_LENGTH,\n",
    "        max_oligo_length=MAX_OLIGO_LENGTH - len(PREFIX) - len(SUFFIX),\n",
    "        min_const_oligo_length=MIN_CONST_OLIGO_LENGTH,\n",
    "        min_fidelity=MIN_FIDELITY,\n",
    "    )\n",
    "\n",
    "\n",
    "    def cost_func(nd1, nd2):\n",
    "        default = create_default_weight_func(\n",
    "            dna_pos_n_codons=deg_table_to_dict(deg_table),\n",
    "            oligo_addition=0,\n",
    "            const_cost=0,\n",
    "        )\n",
    "        return default(nd1, nd2) + len(SUFFIX) + len(PREFIX)\n",
    "\n",
    "\n",
    "    acceptable_fcws = ggdata.filter_self_binding_gates(filter_gc=True)\n",
    "    is_valid_node = create_default_valid_node_function(acceptable_fcws, var_poss)\n",
    "\n",
    "    graph, src, target = build_custom_graph(\n",
    "        dna, is_valid_node, is_valid_edge, cost_func\n",
    "    )"
   ]
  },
  {
   "cell_type": "markdown",
   "metadata": {},
   "source": [
    "### 3.2 Find gates (shortest paths)"
   ]
  },
  {
   "cell_type": "markdown",
   "metadata": {},
   "source": [
    "#### 3.2.1 Find shortest paths"
   ]
  },
  {
   "cell_type": "code",
   "execution_count": 30,
   "metadata": {},
   "outputs": [],
   "source": [
    "shortest_paths = all_shortest_paths(\n",
    "    graph, src, target, weight=\"weight\", len_cutoff=MAX_NUM_GATES\n",
    ")\n",
    "best_paths = {}\n",
    "bad_paths = {}\n",
    "try:\n",
    "    for i, (pth, cost) in enumerate(shortest_paths):\n",
    "        rpth = [p for p in pth if not p.src_or_target]\n",
    "        overhangs = [a.bps for a in rpth]\n",
    "        try:\n",
    "            reaction_fidelities = ggdata.reaction_fidelity(*overhangs)\n",
    "        except ValueError:\n",
    "            continue\n",
    "        neb_fidelity = reaction_fidelities[0]\n",
    "        if neb_fidelity > MIN_FIDELITY:\n",
    "            try:\n",
    "                if best_paths[len(rpth)][1] > cost:\n",
    "                    best_paths[len(rpth)] = (pth, cost, neb_fidelity, i)\n",
    "                    continue\n",
    "                if best_paths[len(rpth)][2] < neb_fidelity:\n",
    "                    best_paths[len(rpth)] = (pth, cost, neb_fidelity, i)\n",
    "            except KeyError:\n",
    "                best_paths[len(rpth)] = (pth, cost, neb_fidelity, i)\n",
    "        else:\n",
    "            try:\n",
    "                bad_paths[len(rpth)].append(pth)\n",
    "            except KeyError:\n",
    "                bad_paths[len(rpth)] = [pth]\n",
    "except nx.NetworkXNoPath:\n",
    "    print(f\"No path was found between {src} and {target}\")\n",
    "\n",
    "best_paths = dict((f'shortest_{i}', (p, c, g)) for p, c, g, i in best_paths.values())"
   ]
  },
  {
   "cell_type": "markdown",
   "metadata": {},
   "source": [
    "##### 3.2.1.2 View found gates (paths)"
   ]
  },
  {
   "cell_type": "code",
   "execution_count": 1,
   "metadata": {},
   "outputs": [
    {
     "ename": "NameError",
     "evalue": "name 'best_paths' is not defined",
     "output_type": "error",
     "traceback": [
      "\u001B[0;31m---------------------------------------------------------------------------\u001B[0m",
      "\u001B[0;31mNameError\u001B[0m                                 Traceback (most recent call last)",
      "\u001B[0;32m<ipython-input-1-dd6da30ea422>\u001B[0m in \u001B[0;36m<module>\u001B[0;34m\u001B[0m\n\u001B[0;32m----> 1\u001B[0;31m \u001B[0;32mfor\u001B[0m \u001B[0mk\u001B[0m\u001B[0;34m,\u001B[0m \u001B[0mv\u001B[0m \u001B[0;32min\u001B[0m \u001B[0mbest_paths\u001B[0m\u001B[0;34m.\u001B[0m\u001B[0mitems\u001B[0m\u001B[0;34m(\u001B[0m\u001B[0;34m)\u001B[0m\u001B[0;34m:\u001B[0m\u001B[0;34m\u001B[0m\u001B[0;34m\u001B[0m\u001B[0m\n\u001B[0m\u001B[1;32m      2\u001B[0m     \u001B[0mprint\u001B[0m\u001B[0;34m(\u001B[0m\u001B[0;34mf\"Path ID: {k}. Number of gates: {len([a for a in v[0] if not a.src_or_target])}. Cost: {v[1]}.\"\u001B[0m\u001B[0;34m)\u001B[0m\u001B[0;34m\u001B[0m\u001B[0;34m\u001B[0m\u001B[0m\n\u001B[1;32m      3\u001B[0m \u001B[0;34m\u001B[0m\u001B[0m\n",
      "\u001B[0;31mNameError\u001B[0m: name 'best_paths' is not defined"
     ]
    }
   ],
   "source": [
    "for k, v in best_paths.items():\n",
    "    print(f\"Path ID: {k}. Number of gates: {len([a for a in v[0] if not a.src_or_target])}. Cost: {v[1]}.\")"
   ]
  },
  {
   "cell_type": "markdown",
   "metadata": {},
   "source": [
    "#### 3.2.2 Find __*colorful*__ gates (shortest paths)"
   ]
  },
  {
   "cell_type": "markdown",
   "metadata": {},
   "source": [
    "##### 3.2.2.1 Set colorful retries"
   ]
  },
  {
   "cell_type": "code",
   "execution_count": 18,
   "metadata": {},
   "outputs": [],
   "source": [
    "colorful_retries = 100"
   ]
  },
  {
   "cell_type": "code",
   "execution_count": 19,
   "metadata": {},
   "outputs": [],
   "source": [
    "spf = colorful.ShortestPathFinder(graph, ggdata, src, target)\n",
    "for max_gates in range(MIN_NUM_GATES, MAX_NUM_GATES):\n",
    "    for i in range(colorful_retries):\n",
    "        pth = spf.find_shortest_path(len_cutoff=max_gates, no_colors=64)\n",
    "        if pth:\n",
    "            overhangs = [a.bps for a in pth[1:-1]]\n",
    "            reaction_fidelity = ggdata.reaction_fidelity(*overhangs)\n",
    "            if reaction_fidelity[0] < MIN_FIDELITY:\n",
    "                continue\n",
    "            pth_len = len(pth)\n",
    "            cost = sum(\n",
    "                (graph.edges[n1, n2][\"weight\"] for n1, n2 in zip(pth[:-1], pth[1:]))\n",
    "            )\n",
    "            entry = (pth, cost) + reaction_fidelity\n",
    "            try:\n",
    "                if best_paths[f\"colorful_{max_gates}_gates\"][1] > cost:\n",
    "                    best_paths[f\"colorful_{max_gates}_gates\"] = entry\n",
    "            except KeyError:\n",
    "                best_paths[f\"colorful_{max_gates}_gates\"] = entry\n",
    "            break"
   ]
  },
  {
   "cell_type": "markdown",
   "metadata": {},
   "source": [
    "##### 3.2.2.2 View found *colorful* gates (paths)"
   ]
  },
  {
   "cell_type": "code",
   "execution_count": 20,
   "metadata": {},
   "outputs": [
    {
     "name": "stdout",
     "output_type": "stream",
     "text": [
      "Path ID: colorful_17_gates. Number of gates: 16. Cost: 2121.\n",
      "Path ID: colorful_18_gates. Number of gates: 16. Cost: 1773.\n",
      "Path ID: colorful_19_gates. Number of gates: 16. Cost: 1787.\n"
     ]
    }
   ],
   "source": [
    "for k, v in best_paths.items():\n",
    "    print(f\"Path ID: {k}. Number of gates: {len([a for a in v[0] if not a.src_or_target])}. Cost: {v[1]}.\")"
   ]
  },
  {
   "cell_type": "markdown",
   "metadata": {},
   "source": [
    "### 3.3 choose whichever path you want"
   ]
  },
  {
   "cell_type": "code",
   "execution_count": 21,
   "metadata": {},
   "outputs": [],
   "source": [
    "chosen_entry = best_paths['colorful_18_gates']\n",
    "chosen_path = chosen_entry[0]"
   ]
  },
  {
   "cell_type": "code",
   "execution_count": 22,
   "metadata": {},
   "outputs": [
    {
     "data": {
      "text/plain": "[PseudoGate(idx=-1, bps='src', src_or_target=True, req_primer=False, syn_mut=(), gatelength=4),\n Gate(idx=36, bps='CCCA', src_or_target=False, req_primer=False, syn_mut=(), gatelength=4),\n Gate(idx=53, bps='GGAC', src_or_target=False, req_primer=False, syn_mut=(), gatelength=4),\n Gate(idx=119, bps='CAAG', src_or_target=False, req_primer=False, syn_mut=(), gatelength=4),\n Gate(idx=160, bps='CCGT', src_or_target=False, req_primer=False, syn_mut=(), gatelength=4),\n Gate(idx=186, bps='ACCC', src_or_target=False, req_primer=False, syn_mut=(), gatelength=4),\n Gate(idx=207, bps='TGCT', src_or_target=False, req_primer=False, syn_mut=(), gatelength=4),\n Gate(idx=226, bps='ACCA', src_or_target=False, req_primer=False, syn_mut=(), gatelength=4),\n Gate(idx=316, bps='ACAA', src_or_target=False, req_primer=False, syn_mut=(), gatelength=4),\n Gate(idx=336, bps='AAGT', src_or_target=False, req_primer=False, syn_mut=(), gatelength=4),\n Gate(idx=426, bps='TACA', src_or_target=False, req_primer=False, syn_mut=(), gatelength=4),\n Gate(idx=452, bps='TATC', src_or_target=False, req_primer=False, syn_mut=(), gatelength=4),\n Gate(idx=492, bps='TTCA', src_or_target=False, req_primer=False, syn_mut=(), gatelength=4),\n Gate(idx=514, bps='AGGA', src_or_target=False, req_primer=False, syn_mut=(), gatelength=4),\n Gate(idx=543, bps='TACC', src_or_target=False, req_primer=False, syn_mut=(), gatelength=4),\n Gate(idx=646, bps='ATCA', src_or_target=False, req_primer=False, syn_mut=(), gatelength=4),\n Gate(idx=672, bps='GAGG', src_or_target=False, req_primer=False, syn_mut=(), gatelength=4),\n PseudoGate(idx=718, bps='snk', src_or_target=True, req_primer=False, syn_mut=(), gatelength=4)]"
     },
     "execution_count": 22,
     "metadata": {},
     "output_type": "execute_result"
    }
   ],
   "source": [
    "chosen_path"
   ]
  },
  {
   "cell_type": "markdown",
   "metadata": {},
   "source": [
    "#### 3.3.1 save chosen path to csv"
   ]
  },
  {
   "cell_type": "code",
   "execution_count": 23,
   "metadata": {},
   "outputs": [],
   "source": [
    "path_df = pd.DataFrame.from_records(chosen_path, columns=chosen_path[0].__annotations__.keys())\n",
    "path_df.to_csv(os.path.join(W_PATH, 'chosen_path_newgg.csv'))"
   ]
  },
  {
   "cell_type": "markdown",
   "metadata": {},
   "source": [
    "## 4. Create embl feature view"
   ]
  },
  {
   "cell_type": "markdown",
   "metadata": {},
   "source": [
    "### 4.1 Prepare degenerate codon and gates features"
   ]
  },
  {
   "cell_type": "code",
   "execution_count": 24,
   "metadata": {},
   "outputs": [],
   "source": [
    "deg_parsed_df = parse_degenerate_codon_csv(deg_table_path)\n",
    "seq_features = create_dc_features(deg_parsed_df)\n",
    "pth_features = create_path_features(chosen_path)"
   ]
  },
  {
   "cell_type": "markdown",
   "metadata": {},
   "source": [
    "### 4.2 Save embl file with all features"
   ]
  },
  {
   "cell_type": "code",
   "execution_count": 25,
   "metadata": {},
   "outputs": [
    {
     "data": {
      "text/plain": "1"
     },
     "execution_count": 25,
     "metadata": {},
     "output_type": "execute_result"
    }
   ],
   "source": [
    "seq_rec = SeqIO.read(dna_path, format=\"fasta\")\n",
    "seq_rec.annotations.update({\"molecule_type\": \"DNA\"})\n",
    "seq_rec.features.extend(seq_features)\n",
    "seq_rec.features.extend(pth_features)\n",
    "SeqIO.write(seq_rec, embl_path, \"embl\")"
   ]
  },
  {
   "cell_type": "markdown",
   "metadata": {},
   "source": [
    "## 5. Create oligos"
   ]
  },
  {
   "cell_type": "markdown",
   "metadata": {},
   "source": [
    "### 5.1 Create oligo table"
   ]
  },
  {
   "cell_type": "code",
   "execution_count": 26,
   "metadata": {},
   "outputs": [],
   "source": [
    "oligo_df = gate_cdn_oligos(chosen_path, dc_df_codon_list(deg_table), dna, reqs.oligo_prefix, reqs.oligo_suffix, \"GFP-NEWGG\")"
   ]
  },
  {
   "cell_type": "markdown",
   "metadata": {},
   "source": [
    "### 5.2 Save oligo table"
   ]
  },
  {
   "cell_type": "code",
   "execution_count": 27,
   "metadata": {},
   "outputs": [],
   "source": [
    "oligo_df.to_csv(os.path.join(W_PATH, \"oligo_df_newgg.csv\"))"
   ]
  },
  {
   "cell_type": "markdown",
   "metadata": {},
   "source": [
    "## 6. Verify golden gate reaction"
   ]
  },
  {
   "cell_type": "markdown",
   "metadata": {},
   "source": [
    "### 6.1 Create golden gate simulator and load oligo table"
   ]
  },
  {
   "cell_type": "code",
   "execution_count": 28,
   "metadata": {},
   "outputs": [
    {
     "ename": "ValueError",
     "evalue": "max() arg is an empty sequence",
     "output_type": "error",
     "traceback": [
      "\u001B[0;31m---------------------------------------------------------------------------\u001B[0m",
      "\u001B[0;31mValueError\u001B[0m                                Traceback (most recent call last)",
      "\u001B[0;32m<ipython-input-28-4df11cdd9611>\u001B[0m in \u001B[0;36m<module>\u001B[0;34m\u001B[0m\n\u001B[1;32m      1\u001B[0m \u001B[0mrs\u001B[0m \u001B[0;34m=\u001B[0m \u001B[0mReactionSim\u001B[0m\u001B[0;34m(\u001B[0m\u001B[0mggdata\u001B[0m\u001B[0;34m,\u001B[0m \u001B[0mreqs\u001B[0m\u001B[0;34m,\u001B[0m \u001B[0mRESTRICTION_ENZYME\u001B[0m\u001B[0;34m)\u001B[0m\u001B[0;34m\u001B[0m\u001B[0;34m\u001B[0m\u001B[0m\n\u001B[0;32m----> 2\u001B[0;31m \u001B[0mres\u001B[0m \u001B[0;34m=\u001B[0m \u001B[0mrs\u001B[0m\u001B[0;34m.\u001B[0m\u001B[0mcreate_reaction_graph\u001B[0m\u001B[0;34m(\u001B[0m\u001B[0mos\u001B[0m\u001B[0;34m.\u001B[0m\u001B[0mpath\u001B[0m\u001B[0;34m.\u001B[0m\u001B[0mjoin\u001B[0m\u001B[0;34m(\u001B[0m\u001B[0mW_PATH\u001B[0m\u001B[0;34m,\u001B[0m \u001B[0;34m\"oligo_df_newgg.csv\"\u001B[0m\u001B[0;34m)\u001B[0m\u001B[0;34m)\u001B[0m\u001B[0;34m\u001B[0m\u001B[0;34m\u001B[0m\u001B[0m\n\u001B[0m\u001B[1;32m      3\u001B[0m \u001B[0;32mif\u001B[0m \u001B[0mres\u001B[0m \u001B[0;32mis\u001B[0m \u001B[0;32mnot\u001B[0m \u001B[0;32mNone\u001B[0m\u001B[0;34m:\u001B[0m\u001B[0;34m\u001B[0m\u001B[0;34m\u001B[0m\u001B[0m\n\u001B[1;32m      4\u001B[0m     \u001B[0mmsg\u001B[0m \u001B[0;34m=\u001B[0m \u001B[0mres\u001B[0m\u001B[0;34m[\u001B[0m\u001B[0;36m0\u001B[0m\u001B[0;34m]\u001B[0m\u001B[0;34m\u001B[0m\u001B[0;34m\u001B[0m\u001B[0m\n\u001B[1;32m      5\u001B[0m     \u001B[0moligo_entry\u001B[0m \u001B[0;34m=\u001B[0m \u001B[0mres\u001B[0m\u001B[0;34m[\u001B[0m\u001B[0;36m1\u001B[0m\u001B[0;34m]\u001B[0m\u001B[0;34m\u001B[0m\u001B[0;34m\u001B[0m\u001B[0m\n",
      "\u001B[0;32m~/Code/dawdlib/dawdlib/golden_gate/reaction_sim.py\u001B[0m in \u001B[0;36mcreate_reaction_graph\u001B[0;34m(self, table_path)\u001B[0m\n\u001B[1;32m    210\u001B[0m         \u001B[0mrgraph\u001B[0m \u001B[0;34m=\u001B[0m \u001B[0mReactionGraph\u001B[0m\u001B[0;34m(\u001B[0m\u001B[0;34m)\u001B[0m\u001B[0;34m\u001B[0m\u001B[0;34m\u001B[0m\u001B[0m\n\u001B[1;32m    211\u001B[0m         \u001B[0mrgraph\u001B[0m\u001B[0;34m.\u001B[0m\u001B[0madd_nodes_from\u001B[0m\u001B[0;34m(\u001B[0m\u001B[0mddna_iter\u001B[0m\u001B[0;34m)\u001B[0m\u001B[0;34m\u001B[0m\u001B[0;34m\u001B[0m\u001B[0m\n\u001B[0;32m--> 212\u001B[0;31m         rgraph.add_edges_from(\n\u001B[0m\u001B[1;32m    213\u001B[0m             \u001B[0mget_compatible_oligos\u001B[0m\u001B[0;34m(\u001B[0m\u001B[0mself\u001B[0m\u001B[0;34m.\u001B[0m\u001B[0mggdata\u001B[0m\u001B[0;34m,\u001B[0m \u001B[0mrgraph\u001B[0m\u001B[0;34m.\u001B[0m\u001B[0mnodes\u001B[0m\u001B[0;34m,\u001B[0m \u001B[0mself\u001B[0m\u001B[0;34m.\u001B[0m\u001B[0mreqs\u001B[0m\u001B[0;34m.\u001B[0m\u001B[0mmin_fidelity\u001B[0m\u001B[0;34m)\u001B[0m\u001B[0;34m\u001B[0m\u001B[0;34m\u001B[0m\u001B[0m\n\u001B[1;32m    214\u001B[0m         )\n",
      "\u001B[0;32m~/opt/miniconda3/envs/dawdlib/lib/python3.9/site-packages/networkx/classes/graph.py\u001B[0m in \u001B[0;36madd_edges_from\u001B[0;34m(self, ebunch_to_add, **attr)\u001B[0m\n\u001B[1;32m    920\u001B[0m         \u001B[0;34m>>\u001B[0m\u001B[0;34m>\u001B[0m \u001B[0mG\u001B[0m\u001B[0;34m.\u001B[0m\u001B[0madd_edges_from\u001B[0m\u001B[0;34m(\u001B[0m\u001B[0;34m[\u001B[0m\u001B[0;34m(\u001B[0m\u001B[0;36m3\u001B[0m\u001B[0;34m,\u001B[0m \u001B[0;36m4\u001B[0m\u001B[0;34m)\u001B[0m\u001B[0;34m,\u001B[0m \u001B[0;34m(\u001B[0m\u001B[0;36m1\u001B[0m\u001B[0;34m,\u001B[0m \u001B[0;36m4\u001B[0m\u001B[0;34m)\u001B[0m\u001B[0;34m]\u001B[0m\u001B[0;34m,\u001B[0m \u001B[0mlabel\u001B[0m\u001B[0;34m=\u001B[0m\u001B[0;34m\"WN2898\"\u001B[0m\u001B[0;34m)\u001B[0m\u001B[0;34m\u001B[0m\u001B[0;34m\u001B[0m\u001B[0m\n\u001B[1;32m    921\u001B[0m         \"\"\"\n\u001B[0;32m--> 922\u001B[0;31m         \u001B[0;32mfor\u001B[0m \u001B[0me\u001B[0m \u001B[0;32min\u001B[0m \u001B[0mebunch_to_add\u001B[0m\u001B[0;34m:\u001B[0m\u001B[0;34m\u001B[0m\u001B[0;34m\u001B[0m\u001B[0m\n\u001B[0m\u001B[1;32m    923\u001B[0m             \u001B[0mne\u001B[0m \u001B[0;34m=\u001B[0m \u001B[0mlen\u001B[0m\u001B[0;34m(\u001B[0m\u001B[0me\u001B[0m\u001B[0;34m)\u001B[0m\u001B[0;34m\u001B[0m\u001B[0;34m\u001B[0m\u001B[0m\n\u001B[1;32m    924\u001B[0m             \u001B[0;32mif\u001B[0m \u001B[0mne\u001B[0m \u001B[0;34m==\u001B[0m \u001B[0;36m3\u001B[0m\u001B[0;34m:\u001B[0m\u001B[0;34m\u001B[0m\u001B[0;34m\u001B[0m\u001B[0m\n",
      "\u001B[0;32m~/Code/dawdlib/dawdlib/golden_gate/reaction_sim.py\u001B[0m in \u001B[0;36mget_compatible_oligos\u001B[0;34m(ggdata, ddnas, min_fidelity)\u001B[0m\n\u001B[1;32m    546\u001B[0m     \u001B[0md2\u001B[0m\u001B[0;34m:\u001B[0m \u001B[0mDDNASection\u001B[0m\u001B[0;34m\u001B[0m\u001B[0;34m\u001B[0m\u001B[0m\n\u001B[1;32m    547\u001B[0m     \u001B[0;32mfor\u001B[0m \u001B[0md1\u001B[0m\u001B[0;34m,\u001B[0m \u001B[0md2\u001B[0m \u001B[0;32min\u001B[0m \u001B[0mcombinations\u001B[0m\u001B[0;34m(\u001B[0m\u001B[0mddnas\u001B[0m\u001B[0;34m,\u001B[0m \u001B[0;36m2\u001B[0m\u001B[0;34m)\u001B[0m\u001B[0;34m:\u001B[0m\u001B[0;34m\u001B[0m\u001B[0;34m\u001B[0m\u001B[0m\n\u001B[0;32m--> 548\u001B[0;31m         fidelity = max(\n\u001B[0m\u001B[1;32m    549\u001B[0m             map(\n\u001B[1;32m    550\u001B[0m                 \u001B[0;32mlambda\u001B[0m \u001B[0mx\u001B[0m\u001B[0;34m:\u001B[0m \u001B[0mggdata\u001B[0m\u001B[0;34m.\u001B[0m\u001B[0mfwd_fidelity\u001B[0m\u001B[0;34m.\u001B[0m\u001B[0mat\u001B[0m\u001B[0;34m[\u001B[0m\u001B[0mx\u001B[0m\u001B[0;34m]\u001B[0m\u001B[0;34m,\u001B[0m\u001B[0;34m\u001B[0m\u001B[0;34m\u001B[0m\u001B[0m\n",
      "\u001B[0;31mValueError\u001B[0m: max() arg is an empty sequence"
     ]
    }
   ],
   "source": [
    "rs = ReactionSim(ggdata, reqs, RESTRICTION_ENZYME)\n",
    "res = rs.create_reaction_graph(os.path.join(W_PATH, \"oligo_df_newgg.csv\"))\n",
    "if res is not None:\n",
    "    msg = res[0]\n",
    "    oligo_entry = res[1]\n",
    "    print(msg)\n",
    "    print(f'The choice of degenerate codons {oligo_entry.oligo_codons} in oligo named \"{oligo_entry.name}\" created a new enzyme restriction site!')\n",
    "    print('''This error must be resolved manually!\n",
    "open the file “deg_table.csv” that was created by box 2.2 and find the relevant segment by the name given above.\n",
    "Try to edit the selected codons to eliminate the creation of the BsaI site.\n",
    "Then, comment out the first line in box 2.2 (which created deg_table.csv) and now rerun the notebook again from box 2.2.\n",
    "The notebook will use your edited file without the enzyme restriction site.''')\n"
   ]
  },
  {
   "cell_type": "markdown",
   "metadata": {},
   "source": [
    "### 6.2 Check for WT sequence"
   ]
  },
  {
   "cell_type": "code",
   "execution_count": 29,
   "metadata": {},
   "outputs": [
    {
     "ename": "AttributeError",
     "evalue": "'ReactionSim' object has no attribute 'reaction_graph'",
     "output_type": "error",
     "traceback": [
      "\u001B[0;31m---------------------------------------------------------------------------\u001B[0m",
      "\u001B[0;31mAttributeError\u001B[0m                            Traceback (most recent call last)",
      "\u001B[0;32m<ipython-input-29-969506b0da97>\u001B[0m in \u001B[0;36m<module>\u001B[0;34m\u001B[0m\n\u001B[0;32m----> 1\u001B[0;31m \u001B[0mreaction_wts\u001B[0m\u001B[0;34m:\u001B[0m\u001B[0mList\u001B[0m\u001B[0;34m[\u001B[0m\u001B[0mReactionGraphWt\u001B[0m\u001B[0;34m]\u001B[0m \u001B[0;34m=\u001B[0m \u001B[0mlist\u001B[0m\u001B[0;34m(\u001B[0m\u001B[0mrs\u001B[0m\u001B[0;34m.\u001B[0m\u001B[0mget_wt_dna\u001B[0m\u001B[0;34m(\u001B[0m\u001B[0;34m)\u001B[0m\u001B[0;34m)\u001B[0m\u001B[0;34m\u001B[0m\u001B[0;34m\u001B[0m\u001B[0m\n\u001B[0m\u001B[1;32m      2\u001B[0m \u001B[0;32massert\u001B[0m \u001B[0;36m1\u001B[0m \u001B[0;34m==\u001B[0m \u001B[0mlen\u001B[0m\u001B[0;34m(\u001B[0m\u001B[0mreaction_wts\u001B[0m\u001B[0;34m)\u001B[0m\u001B[0;34m,\u001B[0m \u001B[0;34m\"Error: {len(reaction_wt)} WT DNA sequences found! expected 1!!\"\u001B[0m\u001B[0;34m\u001B[0m\u001B[0;34m\u001B[0m\u001B[0m\n\u001B[1;32m      3\u001B[0m \u001B[0mreaction_wt\u001B[0m \u001B[0;34m=\u001B[0m \u001B[0mreaction_wts\u001B[0m\u001B[0;34m[\u001B[0m\u001B[0;36m0\u001B[0m\u001B[0;34m]\u001B[0m\u001B[0;34m\u001B[0m\u001B[0;34m\u001B[0m\u001B[0m\n\u001B[1;32m      4\u001B[0m \u001B[0;32massert\u001B[0m \u001B[0mreaction_wt\u001B[0m\u001B[0;34m.\u001B[0m\u001B[0mdna\u001B[0m \u001B[0;34m==\u001B[0m \u001B[0mdna\u001B[0m\u001B[0;34m,\u001B[0m \u001B[0;34m\"Error: reaction DNA doesn't match input DNA!!!\"\u001B[0m\u001B[0;34m\u001B[0m\u001B[0;34m\u001B[0m\u001B[0m\n\u001B[1;32m      5\u001B[0m \u001B[0;34m\u001B[0m\u001B[0m\n",
      "\u001B[0;32m~/Code/dawdlib/dawdlib/golden_gate/reaction_sim.py\u001B[0m in \u001B[0;36mget_wt_dna\u001B[0;34m(self)\u001B[0m\n\u001B[1;32m    227\u001B[0m \u001B[0;34m\u001B[0m\u001B[0m\n\u001B[1;32m    228\u001B[0m         \"\"\"\n\u001B[0;32m--> 229\u001B[0;31m         sub_reaction_g = self.reaction_graph.subgraph(\n\u001B[0m\u001B[1;32m    230\u001B[0m             \u001B[0mfilter\u001B[0m\u001B[0;34m(\u001B[0m\u001B[0;32mlambda\u001B[0m \u001B[0mx\u001B[0m\u001B[0;34m:\u001B[0m \u001B[0mx\u001B[0m\u001B[0;34m.\u001B[0m\u001B[0mis_wt\u001B[0m\u001B[0;34m,\u001B[0m \u001B[0mself\u001B[0m\u001B[0;34m.\u001B[0m\u001B[0mreaction_graph\u001B[0m\u001B[0;34m.\u001B[0m\u001B[0mnodes\u001B[0m\u001B[0;34m)\u001B[0m\u001B[0;34m\u001B[0m\u001B[0;34m\u001B[0m\u001B[0m\n\u001B[1;32m    231\u001B[0m         ).copy()\n",
      "\u001B[0;31mAttributeError\u001B[0m: 'ReactionSim' object has no attribute 'reaction_graph'"
     ]
    }
   ],
   "source": [
    "reaction_wts:List[ReactionGraphWt] = list(rs.get_wt_dna())\n",
    "assert 1 == len(reaction_wts), \"Error: {len(reaction_wt)} WT DNA sequences found! expected 1!!\"\n",
    "reaction_wt = reaction_wts[0]\n",
    "assert reaction_wt.dna == dna, \"Error: reaction DNA doesn't match input DNA!!!\""
   ]
  },
  {
   "cell_type": "markdown",
   "metadata": {},
   "source": [
    "### 6.3 Verify all golden gate products\n",
    "**Checks that all products are constructed correctly and have the same length and gates as WT**\n",
    "\n",
    "* Note: This might take a while!"
   ]
  },
  {
   "cell_type": "code",
   "execution_count": 30,
   "metadata": {},
   "outputs": [
    {
     "name": "stdout",
     "output_type": "stream",
     "text": [
      "Golden gate simulation passed! the number of different products is 11059200\n"
     ]
    }
   ],
   "source": [
    "result = rs.verify_reaction(reaction_wt.end - reaction_wt.start, reaction_wt.no_segments, reaction_wt.fidelity_sum)\n",
    "if result[0]:\n",
    "    msg = '\\n'.join([f'The diversity of the degenerate table ({encoded_diversity}) differs from the one found by the simulation {result[1]}',\n",
    "           'Do not continue or use the product of this run! (unless you know exactly what you\\'re doing',\n",
    "           'Either the golden gate reaction failed, a restriction site appeared or some of the diversity disappeared somewhere!'])\n",
    "    assert result[1] == encoded_diversity, msg\n",
    "    print(f\"Golden gate simulation passed! the number of different products is {result[1]}\")\n",
    "else:\n",
    "    print(\"Verifying golden gate reaction failed!!!\")\n",
    "    print(\"The following product failed verification:\\n\")\n",
    "    print(result[1])"
   ]
  },
  {
   "cell_type": "markdown",
   "metadata": {},
   "source": [
    "## 7. Write order table"
   ]
  },
  {
   "cell_type": "markdown",
   "metadata": {},
   "source": [
    "### 7.1 Settings"
   ]
  },
  {
   "cell_type": "markdown",
   "metadata": {},
   "source": [
    "#### Write constant segments?"
   ]
  },
  {
   "cell_type": "code",
   "execution_count": 23,
   "metadata": {},
   "outputs": [],
   "source": [
    "output_const = False"
   ]
  },
  {
   "cell_type": "markdown",
   "metadata": {},
   "source": [
    "#### write WT segments?"
   ]
  },
  {
   "cell_type": "code",
   "execution_count": 24,
   "metadata": {},
   "outputs": [],
   "source": [
    "output_wt = False"
   ]
  },
  {
   "cell_type": "markdown",
   "metadata": {},
   "source": [
    "### Write order table to csv file"
   ]
  },
  {
   "cell_type": "code",
   "execution_count": 25,
   "metadata": {},
   "outputs": [],
   "source": [
    "oligo_df[(oligo_df.wt <= output_wt) & (oligo_df.const <= output_const)][['name', 'full_oligo_dna']].to_csv(os.path.join(W_PATH, \"order_table_newgg.csv\"))"
   ]
  }
 ],
 "metadata": {
  "kernelspec": {
   "display_name": "Python 3",
   "language": "python",
   "name": "python3"
  },
  "language_info": {
   "codemirror_mode": {
    "name": "ipython",
    "version": 3
   },
   "file_extension": ".py",
   "mimetype": "text/x-python",
   "name": "python",
   "nbconvert_exporter": "python",
   "pygments_lexer": "ipython3",
   "version": "3.6.4"
  }
 },
 "nbformat": 4,
 "nbformat_minor": 4
}
