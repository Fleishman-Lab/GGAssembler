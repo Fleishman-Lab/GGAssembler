{
 "cells": [
  {
   "cell_type": "markdown",
   "metadata": {
    "toc-hr-collapsed": false
   },
   "source": [
    "<img src=\"golden-gator.png\" width=\"400\">"
   ]
  },
  {
   "cell_type": "markdown",
   "metadata": {
    "toc-hr-collapsed": false
   },
   "source": [
    "# Godlen Gator notebook"
   ]
  },
  {
   "cell_type": "markdown",
   "metadata": {
    "toc-hr-collapsed": false
   },
   "source": [
    "## 1. setup "
   ]
  },
  {
   "cell_type": "markdown",
   "metadata": {},
   "source": [
    "### 1.1 Imports"
   ]
  },
  {
   "cell_type": "code",
   "execution_count": 14,
   "metadata": {},
   "outputs": [],
   "source": [
    "import os\n",
    "\n",
    "import networkx as nx\n",
    "import pandas as pd\n",
    "from Bio import Alphabet, SeqFeature, SeqIO\n",
    "\n",
    "from dawdlib.create_embl.embl_maker import create_dc_features, create_path_features\n",
    "from dawdlib.degenerate_dna.deg_table import TableColNames, generate_deg_csv\n",
    "from dawdlib.degenerate_dna.utils import parse_degenerate_codon_csv\n",
    "from dawdlib.dijkstra import colorful\n",
    "from dawdlib.dijkstra.len_limit import all_shortest_paths\n",
    "from dawdlib.gg_dc_combine.gg_dc_combine import dc_df_codon_list, gate_cdn_oligos\n",
    "from dawdlib.golden_gate.find_gg import deg_table_to_dict\n",
    "from dawdlib.golden_gate.gate_data import GGData\n",
    "from dawdlib.golden_gate.graph_maker import (\n",
    "    GraphMaker,\n",
    "    build_custom_graph,\n",
    "    create_default_valid_node_function,\n",
    "    create_default_weight_func,\n",
    "    make_default_graph,\n",
    ")\n",
    "from dawdlib.golden_gate.reaction_sim import ReactionSim\n",
    "from dawdlib.golden_gate.utils import Requirements, expand_dna_var_poss, parse_dna"
   ]
  },
  {
   "cell_type": "markdown",
   "metadata": {},
   "source": [
    "### 1.2 Constants and Paths"
   ]
  },
  {
   "cell_type": "code",
   "execution_count": 15,
   "metadata": {},
   "outputs": [],
   "source": [
    "MIN_OLIGO_LENGTH: int = 20\n",
    "MAX_OLIGO_LENGTH: int = 79\n",
    "MIN_CONST_OLIGO_LENGTH: int = 20\n",
    "MAX_NUM_GATES = 12\n",
    "\n",
    "prefix = \"GACATTGGTCTCA\"\n",
    "suffix = \"TGAGACCAACGACGCCGTACTCTTTGTCAAC\"\n",
    "\n",
    "gg_data = GGData()\n",
    "\n",
    "W_PATH = \"/Users/sh/Code/dawdlib/example\"\n",
    "resfile_path = os.path.join(W_PATH,\"chosen_18Dec.resfile\")\n",
    "dna_path = os.path.join(W_PATH,\"wt_dna.fasta\")\n",
    "embl_path = os.path.join(W_PATH,\"wt_features2.embl\")\n",
    "deg_table_path = os.path.join(W_PATH,\"deg_table2.csv\")"
   ]
  },
  {
   "cell_type": "markdown",
   "metadata": {},
   "source": [
    "## 2. Degenerate codons"
   ]
  },
  {
   "cell_type": "markdown",
   "metadata": {
    "toc-hr-collapsed": true
   },
   "source": [
    "### 2.1 Generate degenerate codon table"
   ]
  },
  {
   "cell_type": "code",
   "execution_count": 3,
   "metadata": {},
   "outputs": [],
   "source": [
    "generate_deg_csv(resfile_path, csv_filename=deg_table_path)\n",
    "deg_table = pd.read_csv(deg_table_path, na_filter=True, keep_default_na=False,)"
   ]
  },
  {
   "cell_type": "markdown",
   "metadata": {},
   "source": [
    "### 2.2 View degenerate codon table"
   ]
  },
  {
   "cell_type": "code",
   "execution_count": 4,
   "metadata": {},
   "outputs": [
    {
     "data": {
      "text/html": [
       "<div>\n",
       "<style scoped>\n",
       "    .dataframe tbody tr th:only-of-type {\n",
       "        vertical-align: middle;\n",
       "    }\n",
       "\n",
       "    .dataframe tbody tr th {\n",
       "        vertical-align: top;\n",
       "    }\n",
       "\n",
       "    .dataframe thead th {\n",
       "        text-align: right;\n",
       "    }\n",
       "</style>\n",
       "<table border=\"1\" class=\"dataframe\">\n",
       "  <thead>\n",
       "    <tr style=\"text-align: right;\">\n",
       "      <th></th>\n",
       "      <th>AA_POS</th>\n",
       "      <th>DNA_POS</th>\n",
       "      <th>ENCODED_AAS</th>\n",
       "      <th>ENCODED_COUNT</th>\n",
       "      <th>AMBIGUOUS_CODONS1</th>\n",
       "      <th>AMBIGUOUS_CODONS2</th>\n",
       "      <th>AMBIGUOUS_CODONS3</th>\n",
       "    </tr>\n",
       "  </thead>\n",
       "  <tbody>\n",
       "    <tr>\n",
       "      <th>0</th>\n",
       "      <td>16</td>\n",
       "      <td>46</td>\n",
       "      <td>['I', 'V']</td>\n",
       "      <td>[1, 1]</td>\n",
       "      <td>RTT</td>\n",
       "      <td></td>\n",
       "      <td></td>\n",
       "    </tr>\n",
       "    <tr>\n",
       "      <th>1</th>\n",
       "      <td>42</td>\n",
       "      <td>124</td>\n",
       "      <td>['L', 'V']</td>\n",
       "      <td>[1, 1]</td>\n",
       "      <td>STG</td>\n",
       "      <td></td>\n",
       "      <td></td>\n",
       "    </tr>\n",
       "    <tr>\n",
       "      <th>2</th>\n",
       "      <td>61</td>\n",
       "      <td>181</td>\n",
       "      <td>['A', 'L', 'V']</td>\n",
       "      <td>[1, 1, 1]</td>\n",
       "      <td>STG</td>\n",
       "      <td>GCA</td>\n",
       "      <td></td>\n",
       "    </tr>\n",
       "    <tr>\n",
       "      <th>3</th>\n",
       "      <td>65</td>\n",
       "      <td>193</td>\n",
       "      <td>['S', 'T']</td>\n",
       "      <td>[1, 1]</td>\n",
       "      <td>ASC</td>\n",
       "      <td></td>\n",
       "      <td></td>\n",
       "    </tr>\n",
       "    <tr>\n",
       "      <th>4</th>\n",
       "      <td>68</td>\n",
       "      <td>202</td>\n",
       "      <td>['A', 'M', 'V']</td>\n",
       "      <td>[1, 1, 1]</td>\n",
       "      <td>RTG</td>\n",
       "      <td>GCA</td>\n",
       "      <td></td>\n",
       "    </tr>\n",
       "    <tr>\n",
       "      <th>5</th>\n",
       "      <td>69</td>\n",
       "      <td>205</td>\n",
       "      <td>['A', 'L', 'P', 'Q']</td>\n",
       "      <td>[1, 1, 1, 1]</td>\n",
       "      <td>CHG</td>\n",
       "      <td>GCA</td>\n",
       "      <td></td>\n",
       "    </tr>\n",
       "    <tr>\n",
       "      <th>6</th>\n",
       "      <td>72</td>\n",
       "      <td>214</td>\n",
       "      <td>['A', 'C', 'S', 'T', 'V']</td>\n",
       "      <td>[1, 1, 1, 1, 1]</td>\n",
       "      <td>WSC</td>\n",
       "      <td>GYG</td>\n",
       "      <td></td>\n",
       "    </tr>\n",
       "    <tr>\n",
       "      <th>7</th>\n",
       "      <td>108</td>\n",
       "      <td>322</td>\n",
       "      <td>['E', 'I', 'L', 'T', 'V']</td>\n",
       "      <td>[1, 1, 1, 1, 1]</td>\n",
       "      <td>AYT</td>\n",
       "      <td>STG</td>\n",
       "      <td>GAA</td>\n",
       "    </tr>\n",
       "    <tr>\n",
       "      <th>8</th>\n",
       "      <td>112</td>\n",
       "      <td>334</td>\n",
       "      <td>['I', 'V']</td>\n",
       "      <td>[1, 1]</td>\n",
       "      <td>RTT</td>\n",
       "      <td></td>\n",
       "      <td></td>\n",
       "    </tr>\n",
       "    <tr>\n",
       "      <th>9</th>\n",
       "      <td>145</td>\n",
       "      <td>433</td>\n",
       "      <td>['A', 'F', 'I', 'M', 'S', 'T', 'V', 'Y']</td>\n",
       "      <td>[1, 1, 1, 1, 1, 1, 1, 1]</td>\n",
       "      <td>RYK</td>\n",
       "      <td>THT</td>\n",
       "      <td></td>\n",
       "    </tr>\n",
       "    <tr>\n",
       "      <th>10</th>\n",
       "      <td>150</td>\n",
       "      <td>448</td>\n",
       "      <td>['I', 'V']</td>\n",
       "      <td>[1, 1]</td>\n",
       "      <td>RTT</td>\n",
       "      <td></td>\n",
       "      <td></td>\n",
       "    </tr>\n",
       "    <tr>\n",
       "      <th>11</th>\n",
       "      <td>167</td>\n",
       "      <td>499</td>\n",
       "      <td>['T', 'V']</td>\n",
       "      <td>[1, 1]</td>\n",
       "      <td>ACC</td>\n",
       "      <td>GTT</td>\n",
       "      <td></td>\n",
       "    </tr>\n",
       "    <tr>\n",
       "      <th>12</th>\n",
       "      <td>181</td>\n",
       "      <td>541</td>\n",
       "      <td>['F', 'H', 'I', 'L', 'V', 'Y']</td>\n",
       "      <td>[1, 1, 1, 1, 1, 1]</td>\n",
       "      <td>YWT</td>\n",
       "      <td>RTT</td>\n",
       "      <td></td>\n",
       "    </tr>\n",
       "    <tr>\n",
       "      <th>13</th>\n",
       "      <td>220</td>\n",
       "      <td>658</td>\n",
       "      <td>['L', 'V']</td>\n",
       "      <td>[1, 1]</td>\n",
       "      <td>STG</td>\n",
       "      <td></td>\n",
       "      <td></td>\n",
       "    </tr>\n",
       "    <tr>\n",
       "      <th>14</th>\n",
       "      <td>224</td>\n",
       "      <td>670</td>\n",
       "      <td>['I', 'V']</td>\n",
       "      <td>[1, 1]</td>\n",
       "      <td>RTT</td>\n",
       "      <td></td>\n",
       "      <td></td>\n",
       "    </tr>\n",
       "  </tbody>\n",
       "</table>\n",
       "</div>"
      ],
      "text/plain": [
       "    AA_POS  DNA_POS                               ENCODED_AAS  \\\n",
       "0       16       46                                ['I', 'V']   \n",
       "1       42      124                                ['L', 'V']   \n",
       "2       61      181                           ['A', 'L', 'V']   \n",
       "3       65      193                                ['S', 'T']   \n",
       "4       68      202                           ['A', 'M', 'V']   \n",
       "5       69      205                      ['A', 'L', 'P', 'Q']   \n",
       "6       72      214                 ['A', 'C', 'S', 'T', 'V']   \n",
       "7      108      322                 ['E', 'I', 'L', 'T', 'V']   \n",
       "8      112      334                                ['I', 'V']   \n",
       "9      145      433  ['A', 'F', 'I', 'M', 'S', 'T', 'V', 'Y']   \n",
       "10     150      448                                ['I', 'V']   \n",
       "11     167      499                                ['T', 'V']   \n",
       "12     181      541            ['F', 'H', 'I', 'L', 'V', 'Y']   \n",
       "13     220      658                                ['L', 'V']   \n",
       "14     224      670                                ['I', 'V']   \n",
       "\n",
       "               ENCODED_COUNT AMBIGUOUS_CODONS1 AMBIGUOUS_CODONS2  \\\n",
       "0                     [1, 1]               RTT                     \n",
       "1                     [1, 1]               STG                     \n",
       "2                  [1, 1, 1]               STG               GCA   \n",
       "3                     [1, 1]               ASC                     \n",
       "4                  [1, 1, 1]               RTG               GCA   \n",
       "5               [1, 1, 1, 1]               CHG               GCA   \n",
       "6            [1, 1, 1, 1, 1]               WSC               GYG   \n",
       "7            [1, 1, 1, 1, 1]               AYT               STG   \n",
       "8                     [1, 1]               RTT                     \n",
       "9   [1, 1, 1, 1, 1, 1, 1, 1]               RYK               THT   \n",
       "10                    [1, 1]               RTT                     \n",
       "11                    [1, 1]               ACC               GTT   \n",
       "12        [1, 1, 1, 1, 1, 1]               YWT               RTT   \n",
       "13                    [1, 1]               STG                     \n",
       "14                    [1, 1]               RTT                     \n",
       "\n",
       "   AMBIGUOUS_CODONS3  \n",
       "0                     \n",
       "1                     \n",
       "2                     \n",
       "3                     \n",
       "4                     \n",
       "5                     \n",
       "6                     \n",
       "7                GAA  \n",
       "8                     \n",
       "9                     \n",
       "10                    \n",
       "11                    \n",
       "12                    \n",
       "13                    \n",
       "14                    "
      ]
     },
     "execution_count": 4,
     "metadata": {},
     "output_type": "execute_result"
    }
   ],
   "source": [
    "deg_table"
   ]
  },
  {
   "cell_type": "markdown",
   "metadata": {},
   "source": [
    "## 3. Find golden gates"
   ]
  },
  {
   "cell_type": "markdown",
   "metadata": {
    "toc-hr-collapsed": true
   },
   "source": [
    "### 3.1 Create a graph\n",
    "**Either use the default, or custom blocks.**"
   ]
  },
  {
   "cell_type": "code",
   "execution_count": 5,
   "metadata": {},
   "outputs": [],
   "source": [
    "use_custom = False"
   ]
  },
  {
   "cell_type": "markdown",
   "metadata": {},
   "source": [
    "#### 3.1.1 Default graph"
   ]
  },
  {
   "cell_type": "code",
   "execution_count": 6,
   "metadata": {},
   "outputs": [],
   "source": [
    "if not use_custom:\n",
    "    gm = GraphMaker(gg_data)\n",
    "    var_poss = expand_dna_var_poss(deg_table[TableColNames.DNA_POS.value].tolist())\n",
    "    dna = parse_dna(dna_path).upper()\n",
    "    reqs = Requirements(\n",
    "        MIN_OLIGO_LENGTH,\n",
    "        MAX_OLIGO_LENGTH,\n",
    "        MIN_CONST_OLIGO_LENGTH,\n",
    "        oligo_prefix=prefix,\n",
    "        oligo_suffix=suffix,\n",
    "    )\n",
    "    graph, src, target = make_default_graph(\n",
    "        GraphMaker(gg_data), dna, var_poss, deg_table_to_dict(deg_table), reqs\n",
    "    )"
   ]
  },
  {
   "cell_type": "markdown",
   "metadata": {},
   "source": [
    "#### 3.1.2 Custom graph"
   ]
  },
  {
   "cell_type": "code",
   "execution_count": 7,
   "metadata": {},
   "outputs": [],
   "source": [
    "if use_custom:\n",
    "    gm = GraphMaker(gg_data)\n",
    "    var_poss = expand_dna_var_poss(deg_table[TableColNames.DNA_POS.value].tolist())\n",
    "    dna = parse_dna(dna_path).upper()\n",
    "\n",
    "    is_valid_edge = gm.create_default_valid_edge_func(\n",
    "        var_poss,\n",
    "        MIN_OLIGO_LENGTH,\n",
    "        MAX_OLIGO_LENGTH - len(prefix) - len(suffix),\n",
    "        MIN_CONST_OLIGO_LENGTH,\n",
    "        1000,\n",
    "    )\n",
    "\n",
    "\n",
    "    def cost_func(nd1, nd2):\n",
    "        default = create_default_weight_func(deg_table_to_dict(deg_table))\n",
    "        return default(nd1, nd2) + len(suffix) + len(prefix)\n",
    "\n",
    "\n",
    "    acceptable_fcws = gm.gg_data.filter_self_binding_gates(2000)\n",
    "    is_valid_node = create_default_valid_node_function(acceptable_fcws, var_poss)\n",
    "\n",
    "    graph, src, target = build_custom_graph(\n",
    "        dna, var_poss, is_valid_node, is_valid_edge, cost_func\n",
    "    )"
   ]
  },
  {
   "cell_type": "markdown",
   "metadata": {},
   "source": [
    "### 3.2 Find gates (shortest paths)"
   ]
  },
  {
   "cell_type": "markdown",
   "metadata": {},
   "source": [
    "#### 3.2.1 Find shortest paths"
   ]
  },
  {
   "cell_type": "code",
   "execution_count": 32,
   "metadata": {},
   "outputs": [],
   "source": [
    "shortest_paths = all_shortest_paths(\n",
    "    graph, src, target, weight=\"weight\", len_cutoff=20\n",
    ")\n",
    "nbest_paths = {}\n",
    "bad_paths = {}\n",
    "try:\n",
    "    for i, (pth, cost) in enumerate(shortest_paths):\n",
    "        gates = [a.bps for a in pth[1:-1]]\n",
    "        gates_crosstalk = gg_data.gateset_crosstalk(gates)\n",
    "        if not gg_data.gate_set_has_off_target(gates):\n",
    "            try:\n",
    "                if nbest_paths[len(pth)][2] > gates_crosstalk:\n",
    "                    nbest_paths[len(pth)] = (pth, cost, gates_crosstalk, i)\n",
    "            except KeyError:\n",
    "                nbest_paths[len(pth)] = (pth, cost, gates_crosstalk, i)\n",
    "        else:\n",
    "            try:\n",
    "                bad_paths[len(pth)].append(pth)\n",
    "            except KeyError:\n",
    "                bad_paths[len(pth)] = [pth]\n",
    "except nx.NetworkXNoPath:\n",
    "    print(f\"No path was found between {src} and {target}\")\n",
    "\n",
    "nbest_paths = dict((i, (p, c, g)) for p, c, g, i in nbest_paths.values())"
   ]
  },
  {
   "cell_type": "markdown",
   "metadata": {},
   "source": [
    "##### 3.2.1.2 View found gates (paths)"
   ]
  },
  {
   "cell_type": "code",
   "execution_count": 36,
   "metadata": {},
   "outputs": [
    {
     "name": "stdout",
     "output_type": "stream",
     "text": [
      "Path ID: 8434. Number of gates: 18. Cost: 1610.\n"
     ]
    }
   ],
   "source": [
    "for k, v in nbest_paths.items():\n",
    "    print(f\"Path ID: {k}. Number of gates: {len(v[0]) - 2}. Cost: {v[1]}.\")"
   ]
  },
  {
   "cell_type": "markdown",
   "metadata": {},
   "source": [
    "#### 3.2.2 Find __*colorful*__ gates (shortest paths)"
   ]
  },
  {
   "cell_type": "code",
   "execution_count": 10,
   "metadata": {},
   "outputs": [
    {
     "name": "stdout",
     "output_type": "stream",
     "text": [
      "Warning! number of colors required 21 is larger than recommended.\n"
     ]
    }
   ],
   "source": [
    "best_paths = {}\n",
    "check_paths_limit = 1000\n",
    "\n",
    "for max_gates in range(16, 17):\n",
    "    try:\n",
    "        colorful_shortest_paths = colorful.shortest_path(\n",
    "            graph, src, target, no_colors=21, len_cutoff=max_gates, weight=\"weight\"\n",
    "        )\n",
    "    except nx.NetworkXNoPath:\n",
    "        print(f\"No path was found between {src} and {target} with at most {max_gates} gates.\")\n",
    "        continue\n",
    "            \n",
    "    for i, cpth in enumerate(colorful_shortest_paths):\n",
    "        if i > check_paths_limit:\n",
    "            break\n",
    "        gates = [a.bps for a in cpth[1:-1]]\n",
    "        if gg_data.gate_set_has_off_target(gates):\n",
    "            continue\n",
    "        pth_len = len(cpth)\n",
    "        cost = sum(\n",
    "            (graph.edges[n1, n2][\"weight\"] for n1, n2 in zip(cpth[:-1], cpth[1:]))\n",
    "        )\n",
    "        gates_crosstalk = gg_data.gateset_crosstalk(gates)\n",
    "        try:\n",
    "            if best_paths[pth_len][1] > cost:\n",
    "                best_paths[pth_len] = (cpth, cost, gates_crosstalk, i)\n",
    "            elif best_paths[pth_len][2] > gates_crosstalk:\n",
    "                best_paths[pth_len] = (cpth, cost, gates_crosstalk, i)\n",
    "        except KeyError:\n",
    "            best_paths[pth_len] = (cpth, cost, gates_crosstalk, i)\n",
    "\n",
    "best_paths = dict((i, (p, c, g)) for p, c, g, i in best_paths.values())\n"
   ]
  },
  {
   "cell_type": "markdown",
   "metadata": {},
   "source": [
    "##### 3.2.2.2 View found *colorful* gates (paths)"
   ]
  },
  {
   "cell_type": "code",
   "execution_count": 37,
   "metadata": {},
   "outputs": [
    {
     "name": "stdout",
     "output_type": "stream",
     "text": [
      "Path ID: 18. Number of gates: 16. Cost: 1769.\n"
     ]
    }
   ],
   "source": [
    "for k, v in best_paths.items():\n",
    "    print(f\"Path ID: {k}. Number of gates: {len(v[0]) - 2}. Cost: {v[1]}.\")"
   ]
  },
  {
   "cell_type": "markdown",
   "metadata": {},
   "source": [
    "### 3.3 choose whichever path you want"
   ]
  },
  {
   "cell_type": "code",
   "execution_count": 14,
   "metadata": {},
   "outputs": [],
   "source": [
    "chosen_entry = best_paths[min(best_paths.keys())]\n",
    "chosen_path = chosen_entry[0]"
   ]
  },
  {
   "cell_type": "markdown",
   "metadata": {},
   "source": [
    "#### 3.3.1 save chosen path to csv"
   ]
  },
  {
   "cell_type": "code",
   "execution_count": null,
   "metadata": {},
   "outputs": [],
   "source": [
    "path_df = pd.DataFrame.from_records(chosen_path, columns=chosen_path[0].__annotations__.keys())\n",
    "path_df.to_csv(os.path.join(W_PATH, 'chosen_path.csv'))"
   ]
  },
  {
   "cell_type": "markdown",
   "metadata": {},
   "source": [
    "## 4. Create embl feature view"
   ]
  },
  {
   "cell_type": "markdown",
   "metadata": {},
   "source": [
    "### 4.1 Prepare degenerate codon and gates features"
   ]
  },
  {
   "cell_type": "code",
   "execution_count": 19,
   "metadata": {},
   "outputs": [],
   "source": [
    "deg_parsed_df = parse_degenerate_codon_csv(deg_table_path)\n",
    "seq_features = create_dc_features(deg_parsed_df)\n",
    "pth_features = create_path_features(chosen_path)"
   ]
  },
  {
   "cell_type": "markdown",
   "metadata": {},
   "source": [
    "### 4.2 Save embl file with all features"
   ]
  },
  {
   "cell_type": "code",
   "execution_count": 20,
   "metadata": {},
   "outputs": [
    {
     "data": {
      "text/plain": [
       "1"
      ]
     },
     "execution_count": 20,
     "metadata": {},
     "output_type": "execute_result"
    }
   ],
   "source": [
    "seq_rec = SeqIO.read(dna_path, format=\"fasta\", alphabet=Alphabet.DNAAlphabet())\n",
    "seq_rec.features.extend(seq_features)\n",
    "seq_rec.features.extend(pth_features)\n",
    "SeqIO.write(seq_rec, embl_path, \"embl\")"
   ]
  },
  {
   "cell_type": "markdown",
   "metadata": {},
   "source": [
    "## 5. Create oligos"
   ]
  },
  {
   "cell_type": "markdown",
   "metadata": {},
   "source": [
    "### 5.1 Create oligo table"
   ]
  },
  {
   "cell_type": "code",
   "execution_count": 38,
   "metadata": {},
   "outputs": [],
   "source": [
    "oligo_df = gate_cdn_oligos(chosen_path, dc_df_codon_list(deg_table), dna, prefix, suffix, \"6vsb-5.5nbd\")"
   ]
  },
  {
   "cell_type": "markdown",
   "metadata": {},
   "source": [
    "### 5.2 Save oligo table"
   ]
  },
  {
   "cell_type": "code",
   "execution_count": 39,
   "metadata": {},
   "outputs": [],
   "source": [
    "oligo_df.to_csv(os.path.join(W_PATH, \"oligo_df.csv\"))"
   ]
  },
  {
   "cell_type": "markdown",
   "metadata": {},
   "source": [
    "## 6. Verify golden gate reaction"
   ]
  },
  {
   "cell_type": "markdown",
   "metadata": {},
   "source": [
    "### 6.1 Create golden gate simulator and load oligo table"
   ]
  },
  {
   "cell_type": "code",
   "execution_count": 40,
   "metadata": {},
   "outputs": [],
   "source": [
    "rs = ReactionSim(gg_data, reqs, [\"BsaI\"])\n",
    "rs.create_reaction_graph(os.path.join(W_PATH, \"oligo_df.csv\"))"
   ]
  },
  {
   "cell_type": "markdown",
   "metadata": {},
   "source": [
    "### 6.2 Check for WT sequence"
   ]
  },
  {
   "cell_type": "code",
   "execution_count": 44,
   "metadata": {},
   "outputs": [],
   "source": [
    "reaction_wt = list(rs.get_wt_dna())\n",
    "assert 1 == len(reaction_wt), \"Error: More than one WT DNA was found!!!\"\n",
    "reaction_wt = reaction_wt[0]\n",
    "assert reaction_wt[0] == dna, \"Error: reaction DNA doesn't match input DNA!!!\""
   ]
  },
  {
   "cell_type": "markdown",
   "metadata": {},
   "source": [
    "### 6.3 Verify all golden gate products\n",
    "**Checks that all products are constructed correctly and have the same length and gates as WT**\n",
    "\n",
    "* Note: This might take a while!"
   ]
  },
  {
   "cell_type": "code",
   "execution_count": 45,
   "metadata": {},
   "outputs": [
    {
     "data": {
      "text/plain": [
       "(True, 18247680)"
      ]
     },
     "execution_count": 45,
     "metadata": {},
     "output_type": "execute_result"
    }
   ],
   "source": [
    "reaction = rs.verify_reaction(reaction_wt[-1] - reaction_wt[-2], reaction_wt[1])\n",
    "if reaction[0]:\n",
    "    print(f\"Golden gate is good the number of different products is {reaction[1]}\")\n",
    "else:\n",
    "    print(\"Verifying golden gate reaction failed!!!\")\n",
    "    print(\"The following product failed verification:\\n\")\n",
    "    print(reaction[1])"
   ]
  },
  {
   "cell_type": "markdown",
   "metadata": {},
   "source": [
    "## 7. Write order table"
   ]
  },
  {
   "cell_type": "markdown",
   "metadata": {},
   "source": [
    "### 7.1 Settings"
   ]
  },
  {
   "cell_type": "markdown",
   "metadata": {},
   "source": [
    "#### Write constant segments?"
   ]
  },
  {
   "cell_type": "code",
   "execution_count": 5,
   "metadata": {},
   "outputs": [],
   "source": [
    "output_const = False"
   ]
  },
  {
   "cell_type": "markdown",
   "metadata": {},
   "source": [
    "#### write WT segments?"
   ]
  },
  {
   "cell_type": "code",
   "execution_count": 6,
   "metadata": {},
   "outputs": [],
   "source": [
    "output_wt = False"
   ]
  },
  {
   "cell_type": "markdown",
   "metadata": {},
   "source": [
    "### Write order table to csv file"
   ]
  },
  {
   "cell_type": "code",
   "execution_count": 16,
   "metadata": {},
   "outputs": [],
   "source": [
    "oligo_df[(oligo_df.wt <= output_wt) & (oligo_df.const <= output_const)][['name', 'full_oligo_dna']].to_csv(os.path.join(W_PATH, \"order_table.csv\"))"
   ]
  }
 ],
 "metadata": {
  "kernelspec": {
   "display_name": "Dawdlib (Python 3.7)",
   "language": "python",
   "name": "dawdlib"
  },
  "language_info": {
   "codemirror_mode": {
    "name": "ipython",
    "version": 3
   },
   "file_extension": ".py",
   "mimetype": "text/x-python",
   "name": "python",
   "nbconvert_exporter": "python",
   "pygments_lexer": "ipython3",
   "version": "3.7.6"
  },
  "pycharm": {
   "stem_cell": {
    "cell_type": "raw",
    "metadata": {
     "collapsed": false
    },
    "source": []
   }
  }
 },
 "nbformat": 4,
 "nbformat_minor": 4
}
