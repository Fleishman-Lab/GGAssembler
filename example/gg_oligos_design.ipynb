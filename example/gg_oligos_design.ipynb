{
 "cells": [
  {
   "cell_type": "markdown",
   "metadata": {
    "toc-hr-collapsed": false
   },
   "source": [
    "<img src=\"golden-gator.png\" width=\"400\">"
   ]
  },
  {
   "cell_type": "markdown",
   "metadata": {
    "toc-hr-collapsed": false
   },
   "source": [
    "# Godlen Gator notebook"
   ]
  },
  {
   "cell_type": "markdown",
   "metadata": {
    "toc-hr-collapsed": false
   },
   "source": [
    "## 1. setup "
   ]
  },
  {
   "cell_type": "markdown",
   "metadata": {},
   "source": [
    "### 1.1 Imports"
   ]
  },
  {
   "cell_type": "code",
   "execution_count": 1,
   "metadata": {},
   "outputs": [],
   "source": [
    "import ast\n",
    "import os\n",
    "\n",
    "import networkx as nx\n",
    "import pandas as pd\n",
    "from Bio import Alphabet, SeqFeature, SeqIO\n",
    "\n",
    "from dawdlib.embl_utils.embl_maker import create_dc_features, create_path_features\n",
    "from dawdlib.degenerate_dna.deg_table import TableColNames, generate_deg_csv\n",
    "from dawdlib.degenerate_dna.utils import parse_degenerate_codon_csv\n",
    "from dawdlib.dijkstra import colorful\n",
    "from dawdlib.dijkstra.len_limit import all_shortest_paths\n",
    "from dawdlib.gg_dc_combine.gg_dc_combine import dc_df_codon_list, gate_cdn_oligos\n",
    "from dawdlib.golden_gate.find_gg import deg_table_to_dict\n",
    "from dawdlib.golden_gate.gate_data import GGData\n",
    "from dawdlib.golden_gate.graph_maker import (\n",
    "    GraphMaker,\n",
    "    build_custom_graph,\n",
    "    create_default_valid_node_function,\n",
    "    create_default_weight_func,\n",
    "    make_default_graph,\n",
    ")\n",
    "from dawdlib.golden_gate.reaction_sim import ReactionSim\n",
    "from dawdlib.golden_gate.utils import RequirementsFactory, expand_dna_var_poss, parse_dna, check_for_restriction_sites"
   ]
  },
  {
   "cell_type": "markdown",
   "metadata": {},
   "source": [
    "### 1.2 Constants and Paths"
   ]
  },
  {
   "cell_type": "code",
   "execution_count": 2,
   "metadata": {},
   "outputs": [],
   "source": [
    "GG_TEMP = 37\n",
    "GG_HOURS = 18\n",
    "MIN_OLIGO_LENGTH: int = 20\n",
    "MAX_OLIGO_LENGTH: int = 79\n",
    "MIN_CONST_OLIGO_LENGTH: int = 20\n",
    "MIN_NUM_GATES = 6\n",
    "MAX_NUM_GATES = 12\n",
    "MIN_EFFICIENCY = 0.25\n",
    "MIN_FIDELITY = 0.9\n",
    "CONST_COST = 40\n",
    "RESTRICTION_ENZYME = [\"BsaI\"]\n",
    "PREFIX = \"GACATTGGTCTCA\"\n",
    "SUFFIX = \"TGAGACCAACGACGCCGTACTCTTTGTCAAC\"\n",
    "\n",
    "reqs = RequirementsFactory(\n",
    "    gg_temp = GG_TEMP,\n",
    "    gg_hours = GG_HOURS,\n",
    "    min_oligo_length = MIN_OLIGO_LENGTH,\n",
    "    max_oligo_length = MAX_OLIGO_LENGTH,\n",
    "    min_const_oligo_length = MIN_CONST_OLIGO_LENGTH,\n",
    "    min_efficiency=MIN_EFFICIENCY,\n",
    "    min_fidelity=MIN_FIDELITY,\n",
    "    oligo_prefix=PREFIX,\n",
    "    oligo_suffix=SUFFIX,\n",
    "    const_cost = CONST_COST\n",
    ")\n",
    "\n",
    "W_PATH = \"/Users/sh/Code/dawdlib/example\"\n",
    "resfile_path = os.path.join(W_PATH,\"chosen_18Dec.resfile\")\n",
    "dna_path = os.path.join(W_PATH,\"wt_dna.fasta\")\n",
    "embl_path = os.path.join(W_PATH,\"wt_features_newgg.embl\")\n",
    "deg_table_path = os.path.join(W_PATH,\"deg_table_newgg.csv\")\n",
    "\n",
    "ggdata = GGData(\n",
    "    temperature=reqs.gg_temp,\n",
    "    hours=reqs.gg_hours,\n",
    "    min_efficiency=reqs.min_efficiency,\n",
    "    min_fidelity=reqs.min_fidelity\n",
    ")\n",
    "dna = parse_dna(dna_path).upper()"
   ]
  },
  {
   "cell_type": "markdown",
   "source": [
    "### Restriction enzyme verification"
   ],
   "metadata": {
    "collapsed": false,
    "pycharm": {
     "name": "#%% md\n"
    }
   }
  },
  {
   "cell_type": "code",
   "execution_count": null,
   "outputs": [],
   "source": [
    "sites = check_for_restriction_sites(dna, RESTRICTION_ENZYME)\n",
    "assert sites[0], f'Restriction enzyme {sites[1]} recognition site were found at positions {sites[2]} in the dna.'"
   ],
   "metadata": {
    "collapsed": false,
    "pycharm": {
     "name": "#%%\n"
    }
   }
  },
  {
   "cell_type": "markdown",
   "metadata": {},
   "source": [
    "## 2. Degenerate codons"
   ]
  },
  {
   "cell_type": "markdown",
   "metadata": {
    "toc-hr-collapsed": true
   },
   "source": [
    "### 2.1 Generate degenerate codon table"
   ]
  },
  {
   "cell_type": "code",
   "execution_count": 3,
   "metadata": {},
   "outputs": [],
   "source": [
    "generate_deg_csv(resfile_path, csv_filename=deg_table_path)\n",
    "deg_table = pd.read_csv(deg_table_path, na_filter=True, keep_default_na=False,)\n",
    "encoded_diversity = deg_table.ENCODED_COUNT.apply(ast.literal_eval).apply(sum).prod()\n",
    "print(f'The encoded diversity has {encoded_diversity} variants.')"
   ]
  },
  {
   "cell_type": "markdown",
   "metadata": {},
   "source": [
    "### 2.2 View degenerate codon table"
   ]
  },
  {
   "cell_type": "code",
   "execution_count": 4,
   "metadata": {},
   "outputs": [
    {
     "data": {
      "text/html": [
       "<div>\n",
       "<style scoped>\n",
       "    .dataframe tbody tr th:only-of-type {\n",
       "        vertical-align: middle;\n",
       "    }\n",
       "\n",
       "    .dataframe tbody tr th {\n",
       "        vertical-align: top;\n",
       "    }\n",
       "\n",
       "    .dataframe thead th {\n",
       "        text-align: right;\n",
       "    }\n",
       "</style>\n",
       "<table border=\"1\" class=\"dataframe\">\n",
       "  <thead>\n",
       "    <tr style=\"text-align: right;\">\n",
       "      <th></th>\n",
       "      <th>AA_POS</th>\n",
       "      <th>DNA_POS</th>\n",
       "      <th>ENCODED_AAS</th>\n",
       "      <th>ENCODED_COUNT</th>\n",
       "      <th>AMBIGUOUS_CODONS1</th>\n",
       "      <th>AMBIGUOUS_CODONS2</th>\n",
       "      <th>AMBIGUOUS_CODONS3</th>\n",
       "    </tr>\n",
       "  </thead>\n",
       "  <tbody>\n",
       "    <tr>\n",
       "      <th>0</th>\n",
       "      <td>16</td>\n",
       "      <td>46</td>\n",
       "      <td>['I', 'V']</td>\n",
       "      <td>[1, 1]</td>\n",
       "      <td>RTT</td>\n",
       "      <td></td>\n",
       "      <td></td>\n",
       "    </tr>\n",
       "    <tr>\n",
       "      <th>1</th>\n",
       "      <td>42</td>\n",
       "      <td>124</td>\n",
       "      <td>['L', 'V']</td>\n",
       "      <td>[1, 1]</td>\n",
       "      <td>STG</td>\n",
       "      <td></td>\n",
       "      <td></td>\n",
       "    </tr>\n",
       "    <tr>\n",
       "      <th>2</th>\n",
       "      <td>61</td>\n",
       "      <td>181</td>\n",
       "      <td>['A', 'L', 'V']</td>\n",
       "      <td>[1, 1, 1]</td>\n",
       "      <td>STG</td>\n",
       "      <td>GCA</td>\n",
       "      <td></td>\n",
       "    </tr>\n",
       "    <tr>\n",
       "      <th>3</th>\n",
       "      <td>65</td>\n",
       "      <td>193</td>\n",
       "      <td>['S', 'T']</td>\n",
       "      <td>[1, 1]</td>\n",
       "      <td>ASC</td>\n",
       "      <td></td>\n",
       "      <td></td>\n",
       "    </tr>\n",
       "    <tr>\n",
       "      <th>4</th>\n",
       "      <td>68</td>\n",
       "      <td>202</td>\n",
       "      <td>['A', 'M', 'V']</td>\n",
       "      <td>[1, 1, 1]</td>\n",
       "      <td>RTG</td>\n",
       "      <td>GCA</td>\n",
       "      <td></td>\n",
       "    </tr>\n",
       "    <tr>\n",
       "      <th>5</th>\n",
       "      <td>69</td>\n",
       "      <td>205</td>\n",
       "      <td>['A', 'L', 'P', 'Q']</td>\n",
       "      <td>[1, 1, 1, 1]</td>\n",
       "      <td>CHG</td>\n",
       "      <td>GCA</td>\n",
       "      <td></td>\n",
       "    </tr>\n",
       "    <tr>\n",
       "      <th>6</th>\n",
       "      <td>72</td>\n",
       "      <td>214</td>\n",
       "      <td>['A', 'C', 'S', 'T', 'V']</td>\n",
       "      <td>[1, 1, 2, 1, 1]</td>\n",
       "      <td>WSC</td>\n",
       "      <td>GYG</td>\n",
       "      <td></td>\n",
       "    </tr>\n",
       "    <tr>\n",
       "      <th>7</th>\n",
       "      <td>108</td>\n",
       "      <td>322</td>\n",
       "      <td>['E', 'I', 'L', 'T', 'V']</td>\n",
       "      <td>[1, 1, 1, 1, 1]</td>\n",
       "      <td>AYT</td>\n",
       "      <td>STG</td>\n",
       "      <td>GAA</td>\n",
       "    </tr>\n",
       "    <tr>\n",
       "      <th>8</th>\n",
       "      <td>112</td>\n",
       "      <td>334</td>\n",
       "      <td>['I', 'V']</td>\n",
       "      <td>[1, 1]</td>\n",
       "      <td>RTT</td>\n",
       "      <td></td>\n",
       "      <td></td>\n",
       "    </tr>\n",
       "    <tr>\n",
       "      <th>9</th>\n",
       "      <td>145</td>\n",
       "      <td>433</td>\n",
       "      <td>['A', 'F', 'I', 'M', 'S', 'T', 'V', 'Y']</td>\n",
       "      <td>[2, 1, 1, 1, 1, 2, 2, 1]</td>\n",
       "      <td>THT</td>\n",
       "      <td>RYK</td>\n",
       "      <td></td>\n",
       "    </tr>\n",
       "    <tr>\n",
       "      <th>10</th>\n",
       "      <td>150</td>\n",
       "      <td>448</td>\n",
       "      <td>['I', 'V']</td>\n",
       "      <td>[1, 1]</td>\n",
       "      <td>RTT</td>\n",
       "      <td></td>\n",
       "      <td></td>\n",
       "    </tr>\n",
       "    <tr>\n",
       "      <th>11</th>\n",
       "      <td>167</td>\n",
       "      <td>499</td>\n",
       "      <td>['T', 'V']</td>\n",
       "      <td>[1, 1]</td>\n",
       "      <td>ACC</td>\n",
       "      <td>GTT</td>\n",
       "      <td></td>\n",
       "    </tr>\n",
       "    <tr>\n",
       "      <th>12</th>\n",
       "      <td>181</td>\n",
       "      <td>541</td>\n",
       "      <td>['F', 'H', 'I', 'L', 'V', 'Y']</td>\n",
       "      <td>[1, 1, 1, 1, 1, 1]</td>\n",
       "      <td>YWT</td>\n",
       "      <td>RTT</td>\n",
       "      <td></td>\n",
       "    </tr>\n",
       "    <tr>\n",
       "      <th>13</th>\n",
       "      <td>220</td>\n",
       "      <td>658</td>\n",
       "      <td>['L', 'V']</td>\n",
       "      <td>[1, 1]</td>\n",
       "      <td>STG</td>\n",
       "      <td></td>\n",
       "      <td></td>\n",
       "    </tr>\n",
       "    <tr>\n",
       "      <th>14</th>\n",
       "      <td>224</td>\n",
       "      <td>670</td>\n",
       "      <td>['I', 'V']</td>\n",
       "      <td>[1, 1]</td>\n",
       "      <td>RTT</td>\n",
       "      <td></td>\n",
       "      <td></td>\n",
       "    </tr>\n",
       "  </tbody>\n",
       "</table>\n",
       "</div>"
      ],
      "text/plain": [
       "    AA_POS  DNA_POS                               ENCODED_AAS  \\\n",
       "0       16       46                                ['I', 'V']   \n",
       "1       42      124                                ['L', 'V']   \n",
       "2       61      181                           ['A', 'L', 'V']   \n",
       "3       65      193                                ['S', 'T']   \n",
       "4       68      202                           ['A', 'M', 'V']   \n",
       "5       69      205                      ['A', 'L', 'P', 'Q']   \n",
       "6       72      214                 ['A', 'C', 'S', 'T', 'V']   \n",
       "7      108      322                 ['E', 'I', 'L', 'T', 'V']   \n",
       "8      112      334                                ['I', 'V']   \n",
       "9      145      433  ['A', 'F', 'I', 'M', 'S', 'T', 'V', 'Y']   \n",
       "10     150      448                                ['I', 'V']   \n",
       "11     167      499                                ['T', 'V']   \n",
       "12     181      541            ['F', 'H', 'I', 'L', 'V', 'Y']   \n",
       "13     220      658                                ['L', 'V']   \n",
       "14     224      670                                ['I', 'V']   \n",
       "\n",
       "               ENCODED_COUNT AMBIGUOUS_CODONS1 AMBIGUOUS_CODONS2  \\\n",
       "0                     [1, 1]               RTT                     \n",
       "1                     [1, 1]               STG                     \n",
       "2                  [1, 1, 1]               STG               GCA   \n",
       "3                     [1, 1]               ASC                     \n",
       "4                  [1, 1, 1]               RTG               GCA   \n",
       "5               [1, 1, 1, 1]               CHG               GCA   \n",
       "6            [1, 1, 2, 1, 1]               WSC               GYG   \n",
       "7            [1, 1, 1, 1, 1]               AYT               STG   \n",
       "8                     [1, 1]               RTT                     \n",
       "9   [2, 1, 1, 1, 1, 2, 2, 1]               THT               RYK   \n",
       "10                    [1, 1]               RTT                     \n",
       "11                    [1, 1]               ACC               GTT   \n",
       "12        [1, 1, 1, 1, 1, 1]               YWT               RTT   \n",
       "13                    [1, 1]               STG                     \n",
       "14                    [1, 1]               RTT                     \n",
       "\n",
       "   AMBIGUOUS_CODONS3  \n",
       "0                     \n",
       "1                     \n",
       "2                     \n",
       "3                     \n",
       "4                     \n",
       "5                     \n",
       "6                     \n",
       "7                GAA  \n",
       "8                     \n",
       "9                     \n",
       "10                    \n",
       "11                    \n",
       "12                    \n",
       "13                    \n",
       "14                    "
      ]
     },
     "execution_count": 4,
     "metadata": {},
     "output_type": "execute_result"
    }
   ],
   "source": [
    "deg_table"
   ]
  },
  {
   "cell_type": "markdown",
   "metadata": {},
   "source": [
    "## 3. Find golden gates"
   ]
  },
  {
   "cell_type": "markdown",
   "metadata": {
    "toc-hr-collapsed": true
   },
   "source": [
    "### 3.1 Create a graph\n",
    "**Either use the default, or custom blocks.**"
   ]
  },
  {
   "cell_type": "code",
   "execution_count": 5,
   "metadata": {},
   "outputs": [],
   "source": [
    "use_default = True"
   ]
  },
  {
   "cell_type": "markdown",
   "metadata": {},
   "source": [
    "#### 3.1.1 Default graph"
   ]
  },
  {
   "cell_type": "code",
   "execution_count": 6,
   "metadata": {},
   "outputs": [],
   "source": [
    "if use_default:\n",
    "    gm = GraphMaker(ggdata)\n",
    "    var_poss = expand_dna_var_poss(deg_table[TableColNames.DNA_POS.value].tolist())\n",
    "    graph, src, target = make_default_graph(\n",
    "        GraphMaker(ggdata), dna, var_poss, deg_table_to_dict(deg_table), reqs\n",
    "    )"
   ]
  },
  {
   "cell_type": "markdown",
   "metadata": {},
   "source": [
    "#### 3.1.2 Custom graph"
   ]
  },
  {
   "cell_type": "code",
   "execution_count": 7,
   "metadata": {},
   "outputs": [],
   "source": [
    "if not use_default:\n",
    "    gm = GraphMaker(ggdata)\n",
    "    var_poss = expand_dna_var_poss(deg_table[TableColNames.DNA_POS.value].tolist())\n",
    "\n",
    "    is_valid_edge = gm.create_default_valid_edge_func(\n",
    "        dna_var_poss=var_poss,\n",
    "        min_oligo_length=MIN_OLIGO_LENGTH,\n",
    "        max_oligo_length=MAX_OLIGO_LENGTH - len(PREFIX) - len(SUFFIX),\n",
    "        min_const_oligo_length=MIN_CONST_OLIGO_LENGTH,\n",
    "        min_fidelity=MIN_FIDELITY,\n",
    "    )\n",
    "\n",
    "\n",
    "    def cost_func(nd1, nd2):\n",
    "        default = create_default_weight_func(\n",
    "            dna_pos_n_codons=deg_table_to_dict(deg_table),\n",
    "            oligo_addition=0,\n",
    "            const_cost=0,\n",
    "        )\n",
    "        return default(nd1, nd2) + len(SUFFIX) + len(PREFIX)\n",
    "\n",
    "\n",
    "    acceptable_fcws = ggdata.filter_self_binding_gates(filter_gc=True)\n",
    "    is_valid_node = create_default_valid_node_function(acceptable_fcws, var_poss)\n",
    "\n",
    "    graph, src, target = build_custom_graph(\n",
    "        dna, is_valid_node, is_valid_edge, cost_func\n",
    "    )"
   ]
  },
  {
   "cell_type": "markdown",
   "metadata": {},
   "source": [
    "### 3.2 Find gates (shortest paths)"
   ]
  },
  {
   "cell_type": "markdown",
   "metadata": {},
   "source": [
    "#### 3.2.1 Find shortest paths"
   ]
  },
  {
   "cell_type": "code",
   "execution_count": 8,
   "metadata": {},
   "outputs": [],
   "source": [
    "shortest_paths = all_shortest_paths(\n",
    "    graph, src, target, weight=\"weight\", len_cutoff=MAX_NUM_GATES\n",
    ")\n",
    "best_paths = {}\n",
    "bad_paths = {}\n",
    "try:\n",
    "    for i, (pth, cost) in enumerate(shortest_paths):\n",
    "        rpth = [p for p in pth if not p.src_or_target]\n",
    "        overhangs = [a.bps for a in rpth]\n",
    "        overhangs_fidelity =list(ggdata.overhangs_fidelity(*overhangs))\n",
    "        if all(f > MIN_FIDELITY for f in overhangs_fidelity):\n",
    "            min_fidelity = min(overhangs_fidelity)\n",
    "            try:\n",
    "                if best_paths[len(rpth)][1] > cost:\n",
    "                    best_paths[len(rpth)] = (pth, cost, min_fidelity, i)\n",
    "                    continue\n",
    "                if best_paths[len(rpth)][2] < min_fidelity:\n",
    "                    best_paths[len(rpth)] = (pth, cost, min_fidelity, i)\n",
    "            except KeyError:\n",
    "                best_paths[len(rpth)] = (pth, cost, min_fidelity, i)\n",
    "        else:\n",
    "            try:\n",
    "                bad_paths[len(rpth)].append(pth)\n",
    "            except KeyError:\n",
    "                bad_paths[len(rpth)] = [pth]\n",
    "except nx.NetworkXNoPath:\n",
    "    print(f\"No path was found between {src} and {target}\")\n",
    "\n",
    "best_paths = dict((f'shortest_{i}', (p, c, g)) for p, c, g, i in best_paths.values())"
   ]
  },
  {
   "cell_type": "markdown",
   "metadata": {},
   "source": [
    "##### 3.2.1.2 View found gates (paths)"
   ]
  },
  {
   "cell_type": "code",
   "execution_count": 9,
   "metadata": {},
   "outputs": [
    {
     "name": "stdout",
     "output_type": "stream",
     "text": [
      "Path ID: 2287. Number of gates: 18. Cost: 1610.\n"
     ]
    }
   ],
   "source": [
    "for k, v in best_paths.items():\n",
    "    print(f\"Path ID: {k}. Number of gates: {len([a for a in v[0] if not a.src_or_target])}. Cost: {v[1]}.\")"
   ]
  },
  {
   "cell_type": "markdown",
   "metadata": {},
   "source": [
    "#### 3.2.2 Find __*colorful*__ gates (shortest paths)"
   ]
  },
  {
   "cell_type": "code",
   "execution_count": 10,
   "metadata": {},
   "outputs": [
    {
     "name": "stdout",
     "output_type": "stream",
     "text": [
      "Warning! number of colors required 21 is larger than recommended.\n",
      "Warning! number of colors required 21 is larger than recommended.\n",
      "Warning! number of colors required 21 is larger than recommended.\n"
     ]
    }
   ],
   "source": [
    "for max_gates in range(MIN_NUM_GATES, MAX_NUM_GATES):\n",
    "    try:\n",
    "        colorful_shortest_path = colorful.shortest_path(\n",
    "            ggdata, graph, src, target, len_cutoff=max_gates, weight=\"weight\"\n",
    "        )\n",
    "    except nx.NetworkXNoPath:\n",
    "        print(f\"No path was found between {src} and {target} with at most {max_gates} gates.\")\n",
    "        continue\n",
    "            \n",
    "    for i, pth in enumerate(colorful_shortest_path):\n",
    "        overhangs = [a.bps for a in pth[1:-1]]\n",
    "        overhangs_fidelity = list(ggdata.overhangs_fidelity(*overhangs))\n",
    "        if any(f < MIN_FIDELITY for f in overhangs_fidelity):\n",
    "            continue\n",
    "        pth_len = len(pth)\n",
    "        cost = sum(\n",
    "            (graph.edges[n1, n2][\"weight\"] for n1, n2 in zip(pth[:-1], pth[1:]))\n",
    "        )\n",
    "        min_fidelity = min(overhangs_fidelity)\n",
    "        best_paths[f\"colorful_{max_gates}_gates_{i}\"] = (pth, cost, min_fidelity)"
   ]
  },
  {
   "cell_type": "markdown",
   "metadata": {},
   "source": [
    "##### 3.2.2.2 View found *colorful* gates (paths)"
   ]
  },
  {
   "cell_type": "code",
   "execution_count": 12,
   "metadata": {},
   "outputs": [
    {
     "name": "stdout",
     "output_type": "stream",
     "text": [
      "Path ID: colorful_16_gates_0. Number of gates: 16. Cost: 1765.\n",
      "Path ID: colorful_17_gates_0. Number of gates: 17. Cost: 1633.\n",
      "Path ID: colorful_18_gates_0. Number of gates: 17. Cost: 1623.\n"
     ]
    }
   ],
   "source": [
    "for k, v in best_paths.items():\n",
    "    print(f\"Path ID: {k}. Number of gates: {len([a for a in v[0] if not a.src_or_target])}. Cost: {v[1]}.\")"
   ]
  },
  {
   "cell_type": "markdown",
   "metadata": {},
   "source": [
    "### 3.3 choose whichever path you want"
   ]
  },
  {
   "cell_type": "code",
   "execution_count": 13,
   "metadata": {},
   "outputs": [],
   "source": [
    "chosen_entry = best_paths['colorful_16_gates_0']\n",
    "chosen_path = chosen_entry[0]"
   ]
  },
  {
   "cell_type": "code",
   "execution_count": 14,
   "metadata": {},
   "outputs": [
    {
     "data": {
      "text/plain": [
       "[Gate(idx=-1, bps='src', src_or_target=True, req_primer=False, syn_mut=()),\n",
       " Gate(idx=36, bps='CCCA', src_or_target=False, req_primer=False, syn_mut=()),\n",
       " Gate(idx=53, bps='GGAC', src_or_target=False, req_primer=False, syn_mut=()),\n",
       " Gate(idx=113, bps='CTAC', src_or_target=False, req_primer=False, syn_mut=()),\n",
       " Gate(idx=131, bps='GAAG', src_or_target=False, req_primer=False, syn_mut=()),\n",
       " Gate(idx=176, bps='CCTC', src_or_target=False, req_primer=False, syn_mut=()),\n",
       " Gate(idx=195, bps='TACG', src_or_target=False, req_primer=False, syn_mut=()),\n",
       " Gate(idx=216, bps='CGCT', src_or_target=False, req_primer=False, syn_mut=()),\n",
       " Gate(idx=316, bps='ACAA', src_or_target=False, req_primer=False, syn_mut=()),\n",
       " Gate(idx=336, bps='AAGT', src_or_target=False, req_primer=False, syn_mut=()),\n",
       " Gate(idx=428, bps='CAAC', src_or_target=False, req_primer=False, syn_mut=()),\n",
       " Gate(idx=452, bps='TATC', src_or_target=False, req_primer=False, syn_mut=()),\n",
       " Gate(idx=494, bps='CAAG', src_or_target=False, req_primer=False, syn_mut=()),\n",
       " Gate(idx=519, bps='GGCA', src_or_target=False, req_primer=False, syn_mut=()),\n",
       " Gate(idx=544, bps='ACCA', src_or_target=False, req_primer=False, syn_mut=()),\n",
       " Gate(idx=653, bps='GGTC', src_or_target=False, req_primer=False, syn_mut=()),\n",
       " Gate(idx=673, bps='AGGC', src_or_target=False, req_primer=False, syn_mut=()),\n",
       " Gate(idx=-1, bps='snk', src_or_target=True, req_primer=False, syn_mut=())]"
      ]
     },
     "execution_count": 14,
     "metadata": {},
     "output_type": "execute_result"
    }
   ],
   "source": [
    "chosen_path"
   ]
  },
  {
   "cell_type": "markdown",
   "metadata": {},
   "source": [
    "#### 3.3.1 save chosen path to csv"
   ]
  },
  {
   "cell_type": "code",
   "execution_count": 15,
   "metadata": {},
   "outputs": [],
   "source": [
    "path_df = pd.DataFrame.from_records(chosen_path, columns=chosen_path[0].__annotations__.keys())\n",
    "path_df.to_csv(os.path.join(W_PATH, 'chosen_path_newgg.csv'))"
   ]
  },
  {
   "cell_type": "markdown",
   "metadata": {},
   "source": [
    "## 4. Create embl feature view"
   ]
  },
  {
   "cell_type": "markdown",
   "metadata": {},
   "source": [
    "### 4.1 Prepare degenerate codon and gates features"
   ]
  },
  {
   "cell_type": "code",
   "execution_count": 16,
   "metadata": {},
   "outputs": [],
   "source": [
    "deg_parsed_df = parse_degenerate_codon_csv(deg_table_path)\n",
    "seq_features = create_dc_features(deg_parsed_df)\n",
    "pth_features = create_path_features(chosen_path)"
   ]
  },
  {
   "cell_type": "markdown",
   "metadata": {},
   "source": [
    "### 4.2 Save embl file with all features"
   ]
  },
  {
   "cell_type": "code",
   "execution_count": 17,
   "metadata": {},
   "outputs": [
    {
     "data": {
      "text/plain": [
       "1"
      ]
     },
     "execution_count": 17,
     "metadata": {},
     "output_type": "execute_result"
    }
   ],
   "source": [
    "seq_rec = SeqIO.read(dna_path, format=\"fasta\", alphabet=Alphabet.DNAAlphabet())\n",
    "seq_rec.features.extend(seq_features)\n",
    "seq_rec.features.extend(pth_features)\n",
    "SeqIO.write(seq_rec, embl_path, \"embl\")"
   ]
  },
  {
   "cell_type": "markdown",
   "metadata": {},
   "source": [
    "## 5. Create oligos"
   ]
  },
  {
   "cell_type": "markdown",
   "metadata": {},
   "source": [
    "### 5.1 Create oligo table"
   ]
  },
  {
   "cell_type": "code",
   "execution_count": 18,
   "metadata": {},
   "outputs": [],
   "source": [
    "oligo_df = gate_cdn_oligos(chosen_path, dc_df_codon_list(deg_table), dna, reqs.oligo_prefix, reqs.oligo_suffix, \"GFP-NEWGG\")"
   ]
  },
  {
   "cell_type": "markdown",
   "metadata": {},
   "source": [
    "### 5.2 Save oligo table"
   ]
  },
  {
   "cell_type": "code",
   "execution_count": 19,
   "metadata": {},
   "outputs": [],
   "source": [
    "oligo_df.to_csv(os.path.join(W_PATH, \"oligo_df_newgg.csv\"))"
   ]
  },
  {
   "cell_type": "markdown",
   "metadata": {},
   "source": [
    "## 6. Verify golden gate reaction"
   ]
  },
  {
   "cell_type": "markdown",
   "metadata": {},
   "source": [
    "### 6.1 Create golden gate simulator and load oligo table"
   ]
  },
  {
   "cell_type": "code",
   "execution_count": 20,
   "metadata": {},
   "outputs": [],
   "source": [
    "rs = ReactionSim(ggdata, reqs, RESTRICTION_ENZYME)\n",
    "res = rs.create_reaction_graph(os.path.join(W_PATH, \"oligo_df_newgg.csv\"))\n",
    "if res is not None:\n",
    "    msg = res[0]\n",
    "    oligo_entry = res[1]\n",
    "    print(msg)\n",
    "    print(f'The choice of degenerate codons {oligo_entry.oligo_codons} in oligo named \"{oligo_entry.name}\" created a new enzyme restriction site!')\n",
    "    print('''This error must be resolved manually!\n",
    "open the file “deg_table.csv” that was created by box 2.2 and find the relevant segment by the name given above.\n",
    "Try to edit the selected codons to eliminate the creation of the BsaI site.\n",
    "Then, comment out the first line in box 2.2 (which created deg_table.csv) and now rerun the notebook again from box 2.2.\n",
    "The notebook will use your edited file without the enzyme restriction site.''')\n"
   ]
  },
  {
   "cell_type": "markdown",
   "metadata": {},
   "source": [
    "### 6.2 Check for WT sequence"
   ]
  },
  {
   "cell_type": "code",
   "execution_count": 21,
   "metadata": {},
   "outputs": [],
   "source": [
    "reaction_wt = list(rs.get_wt_dna())\n",
    "assert 1 == len(reaction_wt), \"Error: {len(reaction_wt)} WT DNA sequences found! expected 1!!\"\n",
    "reaction_wt = reaction_wt[0]\n",
    "assert reaction_wt[0] == dna, \"Error: reaction DNA doesn't match input DNA!!!\""
   ]
  },
  {
   "cell_type": "markdown",
   "metadata": {},
   "source": [
    "### 6.3 Verify all golden gate products\n",
    "**Checks that all products are constructed correctly and have the same length and gates as WT**\n",
    "\n",
    "* Note: This might take a while!"
   ]
  },
  {
   "cell_type": "code",
   "execution_count": 22,
   "metadata": {},
   "outputs": [
    {
     "name": "stdout",
     "output_type": "stream",
     "text": [
      "Golden gate simulation passed! the number of different products is 18247680\n"
     ]
    }
   ],
   "source": [
    "result = rs.verify_reaction(reaction_wt[-1] - reaction_wt[-2], reaction_wt[1])\n",
    "if result[0]:\n",
    "    msg = '\\n'.join([f'The diversity of the degenerate table ({encoded_diversity}) differs from the one found by the simulation {result[1]}',\n",
    "           'Do not continue or use the product of this run! (unless you know exactly what you\\'re doing',\n",
    "           'Either the golden gate reaction failed, a restriction site appeared or some of the diversity disappeared somewhere!'])\n",
    "    assert result[1] == encoded_diversity, msg\n",
    "    print(f\"Golden gate simulation passed! the number of different products is {result[1]}\")\n",
    "else:\n",
    "    print(\"Verifying golden gate reaction failed!!!\")\n",
    "    print(\"The following product failed verification:\\n\")\n",
    "    print(result[1])"
   ]
  },
  {
   "cell_type": "markdown",
   "metadata": {},
   "source": [
    "## 7. Write order table"
   ]
  },
  {
   "cell_type": "markdown",
   "metadata": {},
   "source": [
    "### 7.1 Settings"
   ]
  },
  {
   "cell_type": "markdown",
   "metadata": {},
   "source": [
    "#### Write constant segments?"
   ]
  },
  {
   "cell_type": "code",
   "execution_count": 23,
   "metadata": {},
   "outputs": [],
   "source": [
    "output_const = False"
   ]
  },
  {
   "cell_type": "markdown",
   "metadata": {},
   "source": [
    "#### write WT segments?"
   ]
  },
  {
   "cell_type": "code",
   "execution_count": 24,
   "metadata": {},
   "outputs": [],
   "source": [
    "output_wt = False"
   ]
  },
  {
   "cell_type": "markdown",
   "metadata": {},
   "source": [
    "### Write order table to csv file"
   ]
  },
  {
   "cell_type": "code",
   "execution_count": 25,
   "metadata": {},
   "outputs": [],
   "source": [
    "oligo_df[(oligo_df.wt <= output_wt) & (oligo_df.const <= output_const)][['name', 'full_oligo_dna']].to_csv(os.path.join(W_PATH, \"order_table_newgg.csv\"))"
   ]
  }
 ],
 "metadata": {
  "kernelspec": {
   "display_name": "Dawdlib (Python 3.7)",
   "language": "python",
   "name": "dawdlib"
  },
  "language_info": {
   "codemirror_mode": {
    "name": "ipython",
    "version": 3
   },
   "file_extension": ".py",
   "mimetype": "text/x-python",
   "name": "python",
   "nbconvert_exporter": "python",
   "pygments_lexer": "ipython3",
   "version": "3.7.6"
  }
 },
 "nbformat": 4,
 "nbformat_minor": 4
}